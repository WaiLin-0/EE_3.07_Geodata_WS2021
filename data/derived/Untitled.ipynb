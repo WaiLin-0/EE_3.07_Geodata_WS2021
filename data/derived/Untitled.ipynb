{
 "cells": [
  {
   "cell_type": "code",
   "execution_count": 1,
   "id": "d03767d8-8cd4-420f-af5f-ed65a7c20568",
   "metadata": {},
   "outputs": [],
   "source": [
    "import requests"
   ]
  },
  {
   "cell_type": "code",
   "execution_count": 3,
   "id": "7908a016-d7ff-4699-bbb4-b33ca822abe0",
   "metadata": {},
   "outputs": [],
   "source": [
    "dtm_url = \"https://www.opengeodata.nrw.de/produkte/geobasis/hm/dgm1_xyz/dgm1_xyz/\"\n",
    "r = requests.get(dtm_url)"
   ]
  },
  {
   "cell_type": "code",
   "execution_count": 18,
   "id": "10674e58-c961-4ecb-8aad-e15d3feb03e9",
   "metadata": {},
   "outputs": [],
   "source": [
    "from bs4 import BeautifulSoup \n",
    "import os"
   ]
  },
  {
   "cell_type": "code",
   "execution_count": 20,
   "id": "8393aa34-aaf3-40a2-9f9b-1f51c092e903",
   "metadata": {},
   "outputs": [],
   "source": [
    "data_dir = r\"../data/derived/DTM_NRW_EPSG_25832/\"\n",
    "out_fname = r\"NRW_DTM_Tiles_BB.gpkg\"\n"
   ]
  },
  {
   "cell_type": "code",
   "execution_count": 5,
   "id": "4a59e63d-5d33-4c5d-9570-91b39d1ec743",
   "metadata": {},
   "outputs": [],
   "source": [
    "soup = BeautifulSoup(r.content, 'html.parser')"
   ]
  },
  {
   "cell_type": "code",
   "execution_count": 21,
   "id": "6b26b692-807d-4e18-9251-5551eb9a0fca",
   "metadata": {},
   "outputs": [],
   "source": [
    "os.makedirs(data_dir,exist_ok = True)\n"
   ]
  },
  {
   "cell_type": "code",
   "execution_count": 6,
   "id": "651e93e6-e999-462c-89c4-17077fb5f7e7",
   "metadata": {},
   "outputs": [],
   "source": [
    "tag_list = soup.find_all('file')"
   ]
  },
  {
   "cell_type": "code",
   "execution_count": 7,
   "id": "c867370d-809f-42c3-895b-774dd7a85f71",
   "metadata": {},
   "outputs": [],
   "source": [
    "fname_list = []\n",
    "\n",
    "for tag in tag_list:\n",
    "    fname_list.append(tag[\"name\"])"
   ]
  },
  {
   "cell_type": "code",
   "execution_count": 29,
   "id": "a74043bf-d49e-4c8e-8034-5ea8bff94b2d",
   "metadata": {},
   "outputs": [],
   "source": [
    "def points_from_fname(fname,Dx=1000,Dy=1000):\n",
    "    x_L = int(fname.split(\"_\")[2])*1000\n",
    "    y_L = int(fname.split(\"_\")[3])*1000\n",
    "    x_R = x_L + Dx\n",
    "    y_U = y_L + Dy\n",
    "    \n",
    "    P_LL = (x_L,y_L)\n",
    "    P_UL = (x_L,y_U)\n",
    "    P_UR = (x_R,y_U)\n",
    "    P_LR = (x_R,y_L)\n",
    "    \n",
    "    return[P_LL,P_UL,P_UR,P_LR]"
   ]
  },
  {
   "cell_type": "code",
   "execution_count": 30,
   "id": "22db375b-0fc0-484c-a4c5-f4a2ae10f894",
   "metadata": {},
   "outputs": [],
   "source": [
    "from shapely.geometry import Polygon "
   ]
  },
  {
   "cell_type": "code",
   "execution_count": 31,
   "id": "73218ef9-9dd4-40bd-b86a-681bb446308a",
   "metadata": {},
   "outputs": [],
   "source": [
    "import geopandas \n",
    "import geopandas as gpd"
   ]
  },
  {
   "cell_type": "code",
   "execution_count": 32,
   "id": "6114a010-9f36-48cb-8334-87ea2c525c02",
   "metadata": {},
   "outputs": [],
   "source": [
    "geom_list = [Polygon(points_from_fname(fname)) for fname in fname_list]"
   ]
  },
  {
   "cell_type": "code",
   "execution_count": 33,
   "id": "e64e378f-0c3b-47a1-a5d4-30510103c046",
   "metadata": {},
   "outputs": [
    {
     "data": {
      "text/html": [
       "<div>\n",
       "<style scoped>\n",
       "    .dataframe tbody tr th:only-of-type {\n",
       "        vertical-align: middle;\n",
       "    }\n",
       "\n",
       "    .dataframe tbody tr th {\n",
       "        vertical-align: top;\n",
       "    }\n",
       "\n",
       "    .dataframe thead th {\n",
       "        text-align: right;\n",
       "    }\n",
       "</style>\n",
       "<table border=\"1\" class=\"dataframe\">\n",
       "  <thead>\n",
       "    <tr style=\"text-align: right;\">\n",
       "      <th></th>\n",
       "      <th>fname</th>\n",
       "      <th>geometry</th>\n",
       "    </tr>\n",
       "  </thead>\n",
       "  <tbody>\n",
       "    <tr>\n",
       "      <th>0</th>\n",
       "      <td>dgm1_32_280_5652_1_nw.xyz.gz</td>\n",
       "      <td>POLYGON ((280000.000 5652000.000, 280000.000 5...</td>\n",
       "    </tr>\n",
       "    <tr>\n",
       "      <th>1</th>\n",
       "      <td>dgm1_32_280_5653_1_nw.xyz.gz</td>\n",
       "      <td>POLYGON ((280000.000 5653000.000, 280000.000 5...</td>\n",
       "    </tr>\n",
       "    <tr>\n",
       "      <th>2</th>\n",
       "      <td>dgm1_32_280_5654_1_nw.xyz.gz</td>\n",
       "      <td>POLYGON ((280000.000 5654000.000, 280000.000 5...</td>\n",
       "    </tr>\n",
       "    <tr>\n",
       "      <th>3</th>\n",
       "      <td>dgm1_32_280_5655_1_nw.xyz.gz</td>\n",
       "      <td>POLYGON ((280000.000 5655000.000, 280000.000 5...</td>\n",
       "    </tr>\n",
       "    <tr>\n",
       "      <th>4</th>\n",
       "      <td>dgm1_32_280_5656_1_nw.xyz.gz</td>\n",
       "      <td>POLYGON ((280000.000 5656000.000, 280000.000 5...</td>\n",
       "    </tr>\n",
       "  </tbody>\n",
       "</table>\n",
       "</div>"
      ],
      "text/plain": [
       "                          fname  \\\n",
       "0  dgm1_32_280_5652_1_nw.xyz.gz   \n",
       "1  dgm1_32_280_5653_1_nw.xyz.gz   \n",
       "2  dgm1_32_280_5654_1_nw.xyz.gz   \n",
       "3  dgm1_32_280_5655_1_nw.xyz.gz   \n",
       "4  dgm1_32_280_5656_1_nw.xyz.gz   \n",
       "\n",
       "                                            geometry  \n",
       "0  POLYGON ((280000.000 5652000.000, 280000.000 5...  \n",
       "1  POLYGON ((280000.000 5653000.000, 280000.000 5...  \n",
       "2  POLYGON ((280000.000 5654000.000, 280000.000 5...  \n",
       "3  POLYGON ((280000.000 5655000.000, 280000.000 5...  \n",
       "4  POLYGON ((280000.000 5656000.000, 280000.000 5...  "
      ]
     },
     "execution_count": 33,
     "metadata": {},
     "output_type": "execute_result"
    }
   ],
   "source": [
    "dic = {'fname': fname_list, 'geometry': geom_list}\n",
    "gdf = gpd.GeoDataFrame(data = dic, crs=\"EPSG:25832\")\n",
    "gdf.head()"
   ]
  },
  {
   "cell_type": "code",
   "execution_count": 34,
   "id": "ea120cfb-1da0-410a-b886-250cd411c59b",
   "metadata": {},
   "outputs": [
    {
     "name": "stdout",
     "output_type": "stream",
     "text": [
      "Write gdf to file ../data/derived/DTM_NRW_EPSG_25832/NRW_DTM_Tiles_BB.gpkg\n"
     ]
    }
   ],
   "source": [
    "print(f\"Write gdf to file {data_dir + out_fname:s}\")\n",
    "gdf.to_file(data_dir + out_fname, driver = \"GPKG\") "
   ]
  },
  {
   "cell_type": "code",
   "execution_count": null,
   "id": "c8cf7df5-3390-497c-b3d7-2441197299ba",
   "metadata": {},
   "outputs": [],
   "source": []
  },
  {
   "cell_type": "code",
   "execution_count": 4,
   "id": "234d3f6c-0f8c-453f-afe6-45dafb613fe5",
   "metadata": {},
   "outputs": [
    {
     "name": "stdout",
     "output_type": "stream",
     "text": [
      "In:  dgm1_32_317_5730_1_nw.xyz.gz\n",
      "Out:  dgm1_32_317_5730_1_nw.tif\n",
      "Wall time: 4.1 s\n"
     ]
    }
   ],
   "source": [
    "%%time\n",
    "from osgeo import gdal\n",
    "basename = \"dgm1_32_317_5730_1_nw\"\n",
    "infile = basename + r\".xyz.gz\"\n",
    "outfile = basename + r\".tif\"\n",
    "print(\"In: \", infile)\n",
    "ds = gdal.Open(infile)\n",
    "ds = gdal.Translate(outfile, ds, outputSRS=\"EPSG:25832\")\n",
    "ds = None\n",
    "print(\"Out: \", outfile)"
   ]
  },
  {
   "cell_type": "code",
   "execution_count": null,
   "id": "da05a23f-b7ce-4bbf-9200-f8d2f156dca3",
   "metadata": {},
   "outputs": [],
   "source": []
  },
  {
   "cell_type": "code",
   "execution_count": null,
   "id": "e38ffd8f-9e54-4ad9-9fbd-d7d5fd26d6ae",
   "metadata": {},
   "outputs": [],
   "source": []
  }
 ],
 "metadata": {
  "kernelspec": {
   "display_name": "Python 3 (ipykernel)",
   "language": "python",
   "name": "python3"
  },
  "language_info": {
   "codemirror_mode": {
    "name": "ipython",
    "version": 3
   },
   "file_extension": ".py",
   "mimetype": "text/x-python",
   "name": "python",
   "nbconvert_exporter": "python",
   "pygments_lexer": "ipython3",
   "version": "3.8.12"
  }
 },
 "nbformat": 4,
 "nbformat_minor": 5
}
