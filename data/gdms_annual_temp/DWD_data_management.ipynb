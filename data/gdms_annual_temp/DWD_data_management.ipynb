{
 "cells": [
  {
   "cell_type": "code",
   "execution_count": 226,
   "id": "b81aed1f-c7c4-4a26-8b4d-e9499fe49656",
   "metadata": {},
   "outputs": [],
   "source": [
    "import pandas as pd \n",
    "import os"
   ]
  },
  {
   "cell_type": "code",
   "execution_count": 227,
   "id": "d593484d-6198-4a0f-b2fc-30459f8d3617",
   "metadata": {},
   "outputs": [],
   "source": [
    "data_path = r\"..\\data\\DWD\\annual\\kl\\historical\"\n",
    "filename = r\"KL_Jahreswerte_Beschreibung_Stationen.txt\""
   ]
  },
  {
   "cell_type": "code",
   "execution_count": 228,
   "id": "2f04a2a3-9735-4b06-b1c7-77dcad9a5b2e",
   "metadata": {},
   "outputs": [
    {
     "name": "stdout",
     "output_type": "stream",
     "text": [
      "Data Path: ..\\data\\DWD\\annual\\kl\\historical\n"
     ]
    }
   ],
   "source": [
    "print(f\"Data Path: {data_path:s}\")"
   ]
  },
  {
   "cell_type": "code",
   "execution_count": null,
   "id": "c977d25c-76a4-4d81-857c-a439d5ba538f",
   "metadata": {},
   "outputs": [],
   "source": []
  },
  {
   "cell_type": "code",
   "execution_count": 229,
   "id": "b1362360-ca69-4971-8169-acd40fdfd667",
   "metadata": {},
   "outputs": [
    {
     "data": {
      "text/html": [
       "<div>\n",
       "<style scoped>\n",
       "    .dataframe tbody tr th:only-of-type {\n",
       "        vertical-align: middle;\n",
       "    }\n",
       "\n",
       "    .dataframe tbody tr th {\n",
       "        vertical-align: top;\n",
       "    }\n",
       "\n",
       "    .dataframe thead th {\n",
       "        text-align: right;\n",
       "    }\n",
       "</style>\n",
       "<table border=\"1\" class=\"dataframe\">\n",
       "  <thead>\n",
       "    <tr style=\"text-align: right;\">\n",
       "      <th></th>\n",
       "      <th>von_datum</th>\n",
       "      <th>bis_datum</th>\n",
       "      <th>Stationshoehe</th>\n",
       "      <th>geoBreite</th>\n",
       "      <th>geoLaenge</th>\n",
       "      <th>Stationsname</th>\n",
       "      <th>Bundesland</th>\n",
       "    </tr>\n",
       "    <tr>\n",
       "      <th>Stations_id</th>\n",
       "      <th></th>\n",
       "      <th></th>\n",
       "      <th></th>\n",
       "      <th></th>\n",
       "      <th></th>\n",
       "      <th></th>\n",
       "      <th></th>\n",
       "    </tr>\n",
       "  </thead>\n",
       "  <tbody>\n",
       "    <tr>\n",
       "      <th>1</th>\n",
       "      <td>1931-01-01</td>\n",
       "      <td>1986-06-30</td>\n",
       "      <td>478</td>\n",
       "      <td>47.8413</td>\n",
       "      <td>8.8493</td>\n",
       "      <td>Aach</td>\n",
       "      <td>Baden-Württemberg</td>\n",
       "    </tr>\n",
       "    <tr>\n",
       "      <th>3</th>\n",
       "      <td>1851-01-01</td>\n",
       "      <td>2011-03-31</td>\n",
       "      <td>202</td>\n",
       "      <td>50.7827</td>\n",
       "      <td>6.0941</td>\n",
       "      <td>Aachen</td>\n",
       "      <td>Nordrhein-Westfalen</td>\n",
       "    </tr>\n",
       "    <tr>\n",
       "      <th>44</th>\n",
       "      <td>1971-03-01</td>\n",
       "      <td>2020-12-31</td>\n",
       "      <td>44</td>\n",
       "      <td>52.9336</td>\n",
       "      <td>8.2370</td>\n",
       "      <td>Großenkneten</td>\n",
       "      <td>Niedersachsen</td>\n",
       "    </tr>\n",
       "    <tr>\n",
       "      <th>52</th>\n",
       "      <td>1973-01-01</td>\n",
       "      <td>2001-12-31</td>\n",
       "      <td>46</td>\n",
       "      <td>53.6623</td>\n",
       "      <td>10.1990</td>\n",
       "      <td>Ahrensburg-Wulfsdorf</td>\n",
       "      <td>Schleswig-Holstein</td>\n",
       "    </tr>\n",
       "    <tr>\n",
       "      <th>61</th>\n",
       "      <td>1975-07-01</td>\n",
       "      <td>1978-08-31</td>\n",
       "      <td>339</td>\n",
       "      <td>48.8443</td>\n",
       "      <td>12.6171</td>\n",
       "      <td>Aiterhofen</td>\n",
       "      <td>Bayern</td>\n",
       "    </tr>\n",
       "  </tbody>\n",
       "</table>\n",
       "</div>"
      ],
      "text/plain": [
       "             von_datum  bis_datum  Stationshoehe  geoBreite  geoLaenge  \\\n",
       "Stations_id                                                              \n",
       "1           1931-01-01 1986-06-30            478    47.8413     8.8493   \n",
       "3           1851-01-01 2011-03-31            202    50.7827     6.0941   \n",
       "44          1971-03-01 2020-12-31             44    52.9336     8.2370   \n",
       "52          1973-01-01 2001-12-31             46    53.6623    10.1990   \n",
       "61          1975-07-01 1978-08-31            339    48.8443    12.6171   \n",
       "\n",
       "                     Stationsname           Bundesland  \n",
       "Stations_id                                             \n",
       "1                            Aach    Baden-Württemberg  \n",
       "3                          Aachen  Nordrhein-Westfalen  \n",
       "44                   Großenkneten        Niedersachsen  \n",
       "52           Ahrensburg-Wulfsdorf   Schleswig-Holstein  \n",
       "61                     Aiterhofen               Bayern  "
      ]
     },
     "execution_count": 229,
     "metadata": {},
     "output_type": "execute_result"
    }
   ],
   "source": [
    "df = pd.read_fwf(data_path+\"/\"+filename,skiprows=[0,1], encoding =\"cp1252\",names=fh,parse_dates=[\"von_datum\",\"bis_datum\"],index_col=0)\n",
    "df.head()"
   ]
  },
  {
   "cell_type": "code",
   "execution_count": 230,
   "id": "f9e108fa-3f2c-45fe-a4b4-593581904ca2",
   "metadata": {},
   "outputs": [],
   "source": [
    "file = open(data_path+\"/\"+filename,\"r\")\n",
    "r = file.readline()\n",
    "file.close()"
   ]
  },
  {
   "cell_type": "code",
   "execution_count": 231,
   "id": "b5930e29-8a3e-4459-b604-2a3f54a6ffe8",
   "metadata": {},
   "outputs": [],
   "source": [
    "fh = r.split()"
   ]
  },
  {
   "cell_type": "code",
   "execution_count": 232,
   "id": "d44d1054-72e2-4b6b-8aef-eaa4e86f4a45",
   "metadata": {},
   "outputs": [],
   "source": [
    "datefrom=\"1930\"\n",
    "dateto = \"2020-12-31\"\n",
    "\n",
    "#extracting the dateline\n",
    "def interval(df):\n",
    "    index = (df.von_datum < datefrom) & (df.bis_datum == dateto) & (df.Bundesland == \"Nordrhein-Westfalen\")\n",
    "    limit = df.loc[index]\n",
    "    return(limit)"
   ]
  },
  {
   "cell_type": "code",
   "execution_count": 233,
   "id": "94f3608d-4b8c-443e-9d21-96bf92f15fdd",
   "metadata": {},
   "outputs": [],
   "source": [
    "date_frame = interval(df)"
   ]
  },
  {
   "cell_type": "code",
   "execution_count": 234,
   "id": "fca7263d-07dc-4ea1-9925-877e4b7cd8f7",
   "metadata": {},
   "outputs": [
    {
     "data": {
      "text/html": [
       "<div>\n",
       "<style scoped>\n",
       "    .dataframe tbody tr th:only-of-type {\n",
       "        vertical-align: middle;\n",
       "    }\n",
       "\n",
       "    .dataframe tbody tr th {\n",
       "        vertical-align: top;\n",
       "    }\n",
       "\n",
       "    .dataframe thead th {\n",
       "        text-align: right;\n",
       "    }\n",
       "</style>\n",
       "<table border=\"1\" class=\"dataframe\">\n",
       "  <thead>\n",
       "    <tr style=\"text-align: right;\">\n",
       "      <th></th>\n",
       "      <th>von_datum</th>\n",
       "      <th>bis_datum</th>\n",
       "      <th>Stationshoehe</th>\n",
       "      <th>geoBreite</th>\n",
       "      <th>geoLaenge</th>\n",
       "      <th>Stationsname</th>\n",
       "      <th>Bundesland</th>\n",
       "    </tr>\n",
       "    <tr>\n",
       "      <th>Stations_id</th>\n",
       "      <th></th>\n",
       "      <th></th>\n",
       "      <th></th>\n",
       "      <th></th>\n",
       "      <th></th>\n",
       "      <th></th>\n",
       "      <th></th>\n",
       "    </tr>\n",
       "  </thead>\n",
       "  <tbody>\n",
       "    <tr>\n",
       "      <th>1303</th>\n",
       "      <td>1888-01-01</td>\n",
       "      <td>2020-12-31</td>\n",
       "      <td>150</td>\n",
       "      <td>51.4041</td>\n",
       "      <td>6.9677</td>\n",
       "      <td>Essen-Bredeney</td>\n",
       "      <td>Nordrhein-Westfalen</td>\n",
       "    </tr>\n",
       "    <tr>\n",
       "      <th>2483</th>\n",
       "      <td>1926-11-01</td>\n",
       "      <td>2020-12-31</td>\n",
       "      <td>839</td>\n",
       "      <td>51.1803</td>\n",
       "      <td>8.4891</td>\n",
       "      <td>Kahler Asten</td>\n",
       "      <td>Nordrhein-Westfalen</td>\n",
       "    </tr>\n",
       "    <tr>\n",
       "      <th>2629</th>\n",
       "      <td>1851-01-01</td>\n",
       "      <td>2020-12-31</td>\n",
       "      <td>46</td>\n",
       "      <td>51.7612</td>\n",
       "      <td>6.0954</td>\n",
       "      <td>Kleve</td>\n",
       "      <td>Nordrhein-Westfalen</td>\n",
       "    </tr>\n",
       "    <tr>\n",
       "      <th>2968</th>\n",
       "      <td>1903-01-01</td>\n",
       "      <td>2020-12-31</td>\n",
       "      <td>43</td>\n",
       "      <td>50.9894</td>\n",
       "      <td>6.9777</td>\n",
       "      <td>Köln-Stammheim</td>\n",
       "      <td>Nordrhein-Westfalen</td>\n",
       "    </tr>\n",
       "    <tr>\n",
       "      <th>5717</th>\n",
       "      <td>1907-01-01</td>\n",
       "      <td>2020-12-31</td>\n",
       "      <td>134</td>\n",
       "      <td>51.2256</td>\n",
       "      <td>7.1052</td>\n",
       "      <td>Wuppertal-Buchenhofen</td>\n",
       "      <td>Nordrhein-Westfalen</td>\n",
       "    </tr>\n",
       "  </tbody>\n",
       "</table>\n",
       "</div>"
      ],
      "text/plain": [
       "             von_datum  bis_datum  Stationshoehe  geoBreite  geoLaenge  \\\n",
       "Stations_id                                                              \n",
       "1303        1888-01-01 2020-12-31            150    51.4041     6.9677   \n",
       "2483        1926-11-01 2020-12-31            839    51.1803     8.4891   \n",
       "2629        1851-01-01 2020-12-31             46    51.7612     6.0954   \n",
       "2968        1903-01-01 2020-12-31             43    50.9894     6.9777   \n",
       "5717        1907-01-01 2020-12-31            134    51.2256     7.1052   \n",
       "\n",
       "                      Stationsname           Bundesland  \n",
       "Stations_id                                              \n",
       "1303                Essen-Bredeney  Nordrhein-Westfalen  \n",
       "2483                  Kahler Asten  Nordrhein-Westfalen  \n",
       "2629                         Kleve  Nordrhein-Westfalen  \n",
       "2968                Köln-Stammheim  Nordrhein-Westfalen  \n",
       "5717         Wuppertal-Buchenhofen  Nordrhein-Westfalen  "
      ]
     },
     "execution_count": 234,
     "metadata": {},
     "output_type": "execute_result"
    }
   ],
   "source": [
    "date_frame"
   ]
  },
  {
   "cell_type": "code",
   "execution_count": 235,
   "id": "26e433aa-e89a-4a0f-8132-bdb018e836d1",
   "metadata": {},
   "outputs": [
    {
     "data": {
      "text/plain": [
       "5"
      ]
     },
     "execution_count": 235,
     "metadata": {},
     "output_type": "execute_result"
    }
   ],
   "source": [
    "len(date_frame)"
   ]
  },
  {
   "cell_type": "code",
   "execution_count": 236,
   "id": "767a9ba7-ee74-480d-9b67-3b3954eff849",
   "metadata": {},
   "outputs": [],
   "source": [
    "import numpy as np \n"
   ]
  },
  {
   "cell_type": "code",
   "execution_count": 237,
   "id": "e010ce32-c85f-4b58-841c-75096e09e20d",
   "metadata": {},
   "outputs": [],
   "source": [
    "x = np.arange(0,10)"
   ]
  },
  {
   "cell_type": "code",
   "execution_count": 238,
   "id": "4fa9ca4f-45c2-4da5-b580-968a76d32b9f",
   "metadata": {},
   "outputs": [],
   "source": [
    "y = x < 6 "
   ]
  },
  {
   "cell_type": "code",
   "execution_count": 239,
   "id": "ea4096bf-52d2-4897-9a93-18c0ac3330d2",
   "metadata": {},
   "outputs": [],
   "source": [
    "fname_list = os.listdir(data_path)"
   ]
  },
  {
   "cell_type": "code",
   "execution_count": 240,
   "id": "7083853b-54e6-47d8-a092-fd5aea7f5e44",
   "metadata": {},
   "outputs": [],
   "source": [
    "a = fname_list[9].split(\"_\")"
   ]
  },
  {
   "cell_type": "code",
   "execution_count": 241,
   "id": "0f6835e3-d330-4175-85fb-e0994cda01d7",
   "metadata": {},
   "outputs": [
    {
     "data": {
      "text/plain": [
       "'00078'"
      ]
     },
     "execution_count": 241,
     "metadata": {},
     "output_type": "execute_result"
    }
   ],
   "source": [
    "a[2]"
   ]
  },
  {
   "cell_type": "code",
   "execution_count": 242,
   "id": "2f171ac1-0f71-4dcd-9a7e-48acf3be09a4",
   "metadata": {},
   "outputs": [],
   "source": [
    "for elt in fname_list:\n",
    "    key_string = (elt.split(\"_\")[2])"
   ]
  },
  {
   "cell_type": "code",
   "execution_count": 243,
   "id": "9b1732a9-2917-4456-af9e-4d870dd8713b",
   "metadata": {},
   "outputs": [
    {
     "name": "stdout",
     "output_type": "stream",
     "text": [
      "Cannot convert to integer 'Beschreibung' to integer\n"
     ]
    }
   ],
   "source": [
    "f_dict = {}\n",
    "\n",
    "for val in fname_list:\n",
    "    try:    \n",
    "        key = val.split(\"_\")[2]\n",
    "        f_dict[int(key)] = val    \n",
    "   \n",
    "    except:\n",
    "        print(f\"Cannot convert to integer \\'{key:s}\\' to integer\")\n"
   ]
  },
  {
   "cell_type": "code",
   "execution_count": 244,
   "id": "707cfe9e-e937-4916-be4d-ffafa6f24ce9",
   "metadata": {},
   "outputs": [
    {
     "data": {
      "text/plain": [
       "[1303, 2483, 2629, 2968, 5717]"
      ]
     },
     "execution_count": 244,
     "metadata": {},
     "output_type": "execute_result"
    }
   ],
   "source": [
    "list(date_frame.index)"
   ]
  },
  {
   "cell_type": "code",
   "execution_count": 245,
   "id": "ee61329c-6b16-40c9-83ca-9f8f48720b7b",
   "metadata": {},
   "outputs": [
    {
     "name": "stdout",
     "output_type": "stream",
     "text": [
      "jahreswerte_KL_01303_18880101_20201231_hist.zip\n",
      "jahreswerte_KL_02483_19290101_20201231_hist.zip\n",
      "jahreswerte_KL_02629_18510101_20201231_hist.zip\n",
      "jahreswerte_KL_02968_19030101_20201231_hist.zip\n",
      "jahreswerte_KL_05717_19070101_20201231_hist.zip\n"
     ]
    }
   ],
   "source": [
    "for no in date_frame.index:\n",
    "    print(f_dict[no])\n"
   ]
  },
  {
   "cell_type": "code",
   "execution_count": 246,
   "id": "19edaabb-52e9-4714-bdc1-d44d7479e52d",
   "metadata": {},
   "outputs": [],
   "source": [
    "zip_list = []\n",
    "for no in date_frame.index:\n",
    "    zip_list.append(data_path+\"/\"+f_dict[no])"
   ]
  },
  {
   "cell_type": "code",
   "execution_count": 247,
   "id": "b3bf8032-7e88-4ee5-97d7-8e0bad15b377",
   "metadata": {},
   "outputs": [],
   "source": [
    "from zipfile import ZipFile\n"
   ]
  },
  {
   "cell_type": "code",
   "execution_count": 248,
   "id": "18c1f013-2be2-42dc-b71a-07d2b1ab31d7",
   "metadata": {},
   "outputs": [],
   "source": [
    "elt = zip_list[0]\n"
   ]
  },
  {
   "cell_type": "code",
   "execution_count": 249,
   "id": "4a8c87d9-9a33-43a1-8bfa-67a97bcddea0",
   "metadata": {},
   "outputs": [
    {
     "name": "stdout",
     "output_type": "stream",
     "text": [
      "['Metadaten_Fehldaten_01303_18880101_20201231.html', 'Metadaten_Fehldaten_01303_18880101_20201231.txt', 'Metadaten_Fehlwerte_01303_18880101_20201231.txt', 'Metadaten_Fehlwerte_Gesamt_01303.txt', 'Metadaten_Geographie_01303.txt', 'Metadaten_Geraete_Bedeckungsgrad_01303.html', 'Metadaten_Geraete_Bedeckungsgrad_01303.txt', 'Metadaten_Geraete_Lufttemperatur_01303.html', 'Metadaten_Geraete_Lufttemperatur_01303.txt', 'Metadaten_Geraete_Lufttemperatur_Maximum_01303.html', 'Metadaten_Geraete_Lufttemperatur_Maximum_01303.txt', 'Metadaten_Geraete_Lufttemperatur_Minimum_01303.html', 'Metadaten_Geraete_Lufttemperatur_Minimum_01303.txt', 'Metadaten_Geraete_Niederschlagshoehe_01303.html', 'Metadaten_Geraete_Niederschlagshoehe_01303.txt', 'Metadaten_Geraete_Sonnenscheindauer_01303.html', 'Metadaten_Geraete_Sonnenscheindauer_01303.txt', 'Metadaten_Parameter_klima_jahr_01303.html', 'Metadaten_Parameter_klima_jahr_01303.txt', 'Metadaten_Stationsname_01303.html', 'Metadaten_Stationsname_01303.txt', 'produkt_klima_jahr_18880101_20201231_01303.txt']\n"
     ]
    }
   ],
   "source": [
    "with ZipFile(elt) as myzip:\n",
    "    print(myzip.namelist())"
   ]
  },
  {
   "cell_type": "code",
   "execution_count": 250,
   "id": "ab70466c-66fd-4a32-92c8-148fbac7b5b7",
   "metadata": {},
   "outputs": [
    {
     "ename": "IndexError",
     "evalue": "list index out of range",
     "output_type": "error",
     "traceback": [
      "\u001b[1;31m---------------------------------------------------------------------------\u001b[0m",
      "\u001b[1;31mIndexError\u001b[0m                                Traceback (most recent call last)",
      "\u001b[1;32m~\\AppData\\Local\\Temp/ipykernel_7152/1241754542.py\u001b[0m in \u001b[0;36m<module>\u001b[1;34m\u001b[0m\n\u001b[1;32m----> 1\u001b[1;33m \u001b[0mprodfilename\u001b[0m \u001b[1;33m=\u001b[0m \u001b[1;33m[\u001b[0m\u001b[0mname\u001b[0m \u001b[1;32mfor\u001b[0m \u001b[0mname\u001b[0m \u001b[1;32min\u001b[0m \u001b[0mmyzip\u001b[0m\u001b[1;33m.\u001b[0m\u001b[0mnamelist\u001b[0m\u001b[1;33m(\u001b[0m\u001b[1;33m)\u001b[0m \u001b[1;32mif\u001b[0m \u001b[0mname\u001b[0m\u001b[1;33m.\u001b[0m\u001b[0msplit\u001b[0m\u001b[1;33m(\u001b[0m\u001b[1;34m\"_\"\u001b[0m\u001b[1;33m)\u001b[0m\u001b[1;33m[\u001b[0m\u001b[1;36m0\u001b[0m\u001b[1;33m]\u001b[0m\u001b[1;33m==\u001b[0m\u001b[1;34m\"product\"\u001b[0m\u001b[1;33m]\u001b[0m\u001b[1;33m[\u001b[0m\u001b[1;36m0\u001b[0m\u001b[1;33m]\u001b[0m\u001b[1;33m\u001b[0m\u001b[1;33m\u001b[0m\u001b[0m\n\u001b[0m",
      "\u001b[1;31mIndexError\u001b[0m: list index out of range"
     ]
    }
   ],
   "source": [
    "prodfilename = [name for name in myzip.namelist() if name.split(\"_\")[0]==\"product\"][0]"
   ]
  },
  {
   "cell_type": "code",
   "execution_count": 251,
   "id": "6c204f42-23d7-4f11-a549-8f1aebfb003f",
   "metadata": {},
   "outputs": [
    {
     "ename": "SyntaxError",
     "evalue": "invalid syntax (Temp/ipykernel_7152/3031048775.py, line 1)",
     "output_type": "error",
     "traceback": [
      "\u001b[1;36m  File \u001b[1;32m\"C:\\Users\\Dell\\AppData\\Local\\Temp/ipykernel_7152/3031048775.py\"\u001b[1;36m, line \u001b[1;32m1\u001b[0m\n\u001b[1;33m    name for name in myzip.namelist()\u001b[0m\n\u001b[1;37m         ^\u001b[0m\n\u001b[1;31mSyntaxError\u001b[0m\u001b[1;31m:\u001b[0m invalid syntax\n"
     ]
    }
   ],
   "source": [
    "name for name in myzip.namelist()"
   ]
  },
  {
   "cell_type": "code",
   "execution_count": 254,
   "id": "11c6995a-62ea-43ad-a531-e3148b9958d6",
   "metadata": {},
   "outputs": [
    {
     "data": {
      "text/html": [
       "<div>\n",
       "<style scoped>\n",
       "    .dataframe tbody tr th:only-of-type {\n",
       "        vertical-align: middle;\n",
       "    }\n",
       "\n",
       "    .dataframe tbody tr th {\n",
       "        vertical-align: top;\n",
       "    }\n",
       "\n",
       "    .dataframe thead th {\n",
       "        text-align: right;\n",
       "    }\n",
       "</style>\n",
       "<table border=\"1\" class=\"dataframe\">\n",
       "  <thead>\n",
       "    <tr style=\"text-align: right;\">\n",
       "      <th></th>\n",
       "      <th>1303</th>\n",
       "      <th>2483</th>\n",
       "      <th>2629</th>\n",
       "      <th>2968</th>\n",
       "      <th>5717</th>\n",
       "    </tr>\n",
       "    <tr>\n",
       "      <th>year</th>\n",
       "      <th></th>\n",
       "      <th></th>\n",
       "      <th></th>\n",
       "      <th></th>\n",
       "      <th></th>\n",
       "    </tr>\n",
       "  </thead>\n",
       "  <tbody>\n",
       "    <tr>\n",
       "      <th>1851-01-01</th>\n",
       "      <td>NaN</td>\n",
       "      <td>NaN</td>\n",
       "      <td>8.73</td>\n",
       "      <td>NaN</td>\n",
       "      <td>NaN</td>\n",
       "    </tr>\n",
       "    <tr>\n",
       "      <th>1852-01-01</th>\n",
       "      <td>NaN</td>\n",
       "      <td>NaN</td>\n",
       "      <td>9.90</td>\n",
       "      <td>NaN</td>\n",
       "      <td>NaN</td>\n",
       "    </tr>\n",
       "    <tr>\n",
       "      <th>1853-01-01</th>\n",
       "      <td>NaN</td>\n",
       "      <td>NaN</td>\n",
       "      <td>7.89</td>\n",
       "      <td>NaN</td>\n",
       "      <td>NaN</td>\n",
       "    </tr>\n",
       "    <tr>\n",
       "      <th>1854-01-01</th>\n",
       "      <td>NaN</td>\n",
       "      <td>NaN</td>\n",
       "      <td>9.09</td>\n",
       "      <td>NaN</td>\n",
       "      <td>NaN</td>\n",
       "    </tr>\n",
       "    <tr>\n",
       "      <th>1855-01-01</th>\n",
       "      <td>NaN</td>\n",
       "      <td>NaN</td>\n",
       "      <td>7.34</td>\n",
       "      <td>NaN</td>\n",
       "      <td>NaN</td>\n",
       "    </tr>\n",
       "  </tbody>\n",
       "</table>\n",
       "</div>"
      ],
      "text/plain": [
       "            1303  2483  2629  2968  5717\n",
       "year                                    \n",
       "1851-01-01   NaN   NaN  8.73   NaN   NaN\n",
       "1852-01-01   NaN   NaN  9.90   NaN   NaN\n",
       "1853-01-01   NaN   NaN  7.89   NaN   NaN\n",
       "1854-01-01   NaN   NaN  9.09   NaN   NaN\n",
       "1855-01-01   NaN   NaN  7.34   NaN   NaN"
      ]
     },
     "execution_count": 254,
     "metadata": {},
     "output_type": "execute_result"
    }
   ],
   "source": [
    "import pandas as pd\n",
    "from zipfile import ZipFile\n",
    "\n",
    "# Very compact code.\n",
    "df = pd.DataFrame()\n",
    "for elt in zip_list:\n",
    "    with ZipFile(elt) as myzip:\n",
    "        \n",
    "        # read the time series data from the file starting with \"produkt\"\n",
    "        prodfilename = [name for name in myzip.namelist() if name.split(\"_\")[0]==\"produkt\"][0] \n",
    "        #print(prodfilename)\n",
    "        \n",
    "        # open just the produkt file within the archive\n",
    "        with myzip.open(prodfilename) as myfile:\n",
    "            dftmp = pd.read_csv(myfile, sep =\";\", parse_dates = [\"MESS_DATUM_BEGINN\", \"MESS_DATUM_ENDE\"], index_col = \"MESS_DATUM_BEGINN\", na_values = [-999.0])\n",
    "            # select the series with the average annual temp (\"JA_TT\"), rename the series with the station_id and make it a df.\n",
    "            s = dftmp[\"JA_TT\"].rename(dftmp[\"STATIONS_ID\"][0]).to_frame()\n",
    "            # outer merge.\n",
    "            df = pd.merge(df, s, left_index=True, right_index=True, how='outer')\n",
    "\n",
    "#df.index.names = [\"year\"]\n",
    "df.index.rename(name = \"year\", inplace = True)\n",
    "df.head()\n"
   ]
  },
  {
   "cell_type": "code",
   "execution_count": null,
   "id": "9355c661-8d70-4aad-9da3-b79ee3565ad1",
   "metadata": {},
   "outputs": [],
   "source": []
  },
  {
   "cell_type": "code",
   "execution_count": null,
   "id": "487d0483-c261-4c16-9c3a-9194ec36ff3e",
   "metadata": {},
   "outputs": [],
   "source": []
  }
 ],
 "metadata": {
  "kernelspec": {
   "display_name": "Python 3 (ipykernel)",
   "language": "python",
   "name": "python3"
  },
  "language_info": {
   "codemirror_mode": {
    "name": "ipython",
    "version": 3
   },
   "file_extension": ".py",
   "mimetype": "text/x-python",
   "name": "python",
   "nbconvert_exporter": "python",
   "pygments_lexer": "ipython3",
   "version": "3.8.12"
  }
 },
 "nbformat": 4,
 "nbformat_minor": 5
}
