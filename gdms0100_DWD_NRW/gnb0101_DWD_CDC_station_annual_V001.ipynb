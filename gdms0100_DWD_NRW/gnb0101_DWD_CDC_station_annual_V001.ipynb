{
 "cells": [
  {
   "cell_type": "markdown",
   "metadata": {},
   "source": [
    "# Get DWD CDC Station List for Climate Data"
   ]
  },
  {
   "cell_type": "markdown",
   "metadata": {},
   "source": [
    "## 1. About the DWD Open Data Portal \n",
    "\n",
    "The data of the Climate Data Center (CDC) of the DWD (Deutscher Wetterdienst, German Weather Service) is provided on an **FTP server**. <br> **FTP** stands for _File Transfer Protocol_.\n",
    "\n",
    "Open the FTP link ftp://opendata.dwd.de/climate_environment/CDC/ in your browser (copy-paste) and find our how it is structured hierarchically.\n",
    "\n",
    "You can also open the link with **HTTPS** (Hypertext Transfer Protocol Secure): https://opendata.dwd.de/climate_environment/CDC/\n",
    "\n",
    "**Download and read** the document https://opendata.dwd.de/climate_environment/CDC/Readme_intro_CDC_ftp.pdf\n",
    "\n",
    "**Q1:** In which temporal resolutions are the time series provided?\n",
    "\n",
    "**Q2:** What is the difference between _historical_ and _recent_ data also with respect to quality control?\n",
    "\n",
    "**Q3:** Are all meteorological parameters provided at the same temporal resolution?\n"
   ]
  },
  {
   "cell_type": "markdown",
   "metadata": {},
   "source": [
    "## 2. Download the Station Meta Data \n",
    "\n",
    "We are interested in observations with following properties:\n",
    "\n",
    "1. The observations are taken in Germany.\n",
    "1. It is climate data.\n",
    "1. The temporal resolution is annual.\n",
    "1. Use historial data, nt recent.\n",
    "\n",
    "\n",
    "Download the corresonding station meta data file (description) from the FTP server. The file you have to download is named `KL_Jahreswerte_Beschreibung_Stationen.txt`. The elements of the file name denote:\n",
    "\n",
    "* KL: Klima, Climate, \n",
    "* Jahreswerte: Annual Values, \n",
    "* Beschreibung: Description, \n",
    "* Stationen: Stations\n",
    "\n",
    "**Q1:** Under with path (directory, folder) on the FTP server do you find the file?\n",
    "\n",
    "**Q2:** The Python FTP client we use is provided through the library _ftplib_: <br>\n",
    "https://pythonprogramming.net/ftp-transfers-python-ftplib/ <br>\n",
    "How to you use it?\n",
    "\n",
    "**Q3:** Look at the code below. In which folder is the data stored locally? What is are relative and absolute paths?"
   ]
  },
  {
   "cell_type": "code",
   "execution_count": null,
   "metadata": {},
   "outputs": [],
   "source": [
    "server = \"opendata.dwd.de\"\n",
    "user = \"anonymous\"\n",
    "passwd = \"\"\n",
    "# COMPLETE THE PATH: dir = \"/climate_environment/CDC/observations_germany/...\"\n",
    "filename = \"KL_Jahreswerte_Beschreibung_Stationen.txt\"\n",
    "localpath = \"data\""
   ]
  },
  {
   "cell_type": "code",
   "execution_count": null,
   "metadata": {},
   "outputs": [],
   "source": [
    "from ftplib import FTP"
   ]
  },
  {
   "cell_type": "code",
   "execution_count": null,
   "metadata": {},
   "outputs": [],
   "source": [
    "#domain name or server ip:\n",
    "ftp = FTP(server)\n",
    "res = ftp.login(user=user, passwd = passwd)\n",
    "print(res)\n",
    "res = ftp.cwd(dir)\n",
    "print(res)\n",
    "ftp.dir()"
   ]
  },
  {
   "cell_type": "code",
   "execution_count": null,
   "metadata": {},
   "outputs": [],
   "source": [
    "def grabFile(filename,localpath):\n",
    "    localfile = open(localpath+\"/\"+filename, 'wb')\n",
    "    ftp.retrbinary('RETR ' + filename, localfile.write, 1024)\n",
    "    localfile.close()"
   ]
  },
  {
   "cell_type": "code",
   "execution_count": null,
   "metadata": {},
   "outputs": [],
   "source": [
    "grabFile(filename,localpath)"
   ]
  },
  {
   "cell_type": "code",
   "execution_count": null,
   "metadata": {
    "scrolled": true
   },
   "outputs": [],
   "source": [
    "# Finally disconnect from the FPT Server\n",
    "res = ftp.quit()\n",
    "print(res)"
   ]
  },
  {
   "cell_type": "markdown",
   "metadata": {},
   "source": [
    "## 3. Read the Station Data into a Pandas Dataframe\n",
    "\n",
    "The Station Data is in fixed column format. Pandas provides a reader for text files with fixed column width.  \n",
    "\n",
    "Search the Pandas doc https://pandas.pydata.org/pandas-docs/stable/user_guide/io.html for this fixed column reader. Learn how to use it and read the station data file into a dataframe.\n",
    "\n",
    "Hint: Count the characters per column (column wdith) in a text editor."
   ]
  },
  {
   "cell_type": "markdown",
   "metadata": {},
   "source": [
    "### Extract column names and translate them from DE to EN."
   ]
  },
  {
   "cell_type": "code",
   "execution_count": null,
   "metadata": {},
   "outputs": [],
   "source": [
    "# extract column names. They are in German (de)\n",
    "file = open(localpath+\"/\"+filename,\"r\")\n",
    "r = file.readline()\n",
    "file.close()\n",
    "colnames_de = r.split()\n",
    "colnames_de"
   ]
  },
  {
   "cell_type": "code",
   "execution_count": null,
   "metadata": {},
   "outputs": [],
   "source": [
    "# translation dictionary\n",
    "translate = \\\n",
    "{'Stations_id':'station_id',\n",
    " 'von_datum':'date_from',\n",
    " 'bis_datum':'date_to',\n",
    " 'Stationshoehe':'altitude',\n",
    " 'geoBreite': <fill in!>,\n",
    " 'geoLaenge': <fill in!>,\n",
    " 'Stationsname':'name',\n",
    " 'Bundesland':'state'}"
   ]
  },
  {
   "cell_type": "code",
   "execution_count": null,
   "metadata": {
    "scrolled": true
   },
   "outputs": [],
   "source": [
    "for h in colnames_de:\n",
    "    print(translate[h])"
   ]
  },
  {
   "cell_type": "code",
   "execution_count": null,
   "metadata": {},
   "outputs": [],
   "source": [
    "# Pythonic\n",
    "colnames_en = [translate[h] for h in colnames_de]\n",
    "print(colnames_en)"
   ]
  },
  {
   "cell_type": "markdown",
   "metadata": {},
   "source": [
    "### Read the formatted data with pd.read_fwf()."
   ]
  },
  {
   "cell_type": "code",
   "execution_count": null,
   "metadata": {},
   "outputs": [],
   "source": [
    "import pandas as pd"
   ]
  },
  {
   "cell_type": "code",
   "execution_count": null,
   "metadata": {},
   "outputs": [],
   "source": [
    "help(pd.read_fwf)"
   ]
  },
  {
   "cell_type": "code",
   "execution_count": null,
   "metadata": {},
   "outputs": [],
   "source": [
    "# Skip the first two rows and set the column names.\n",
    "df = pd.read_fwf(localpath+\"/\"+filename,skip...<fill in!>,names=colnames_en)\n",
    "df.head()"
   ]
  },
  {
   "cell_type": "code",
   "execution_count": null,
   "metadata": {},
   "outputs": [],
   "source": [
    "# Better parse dates! Column 0 should be treated as index. It makes the later export with pd.to_csv() easier.\n",
    "df = pd.read_fwf(localpath+\"/\"+filename,skip...<fill in!>,names=colnames_en, parse_dates=[\"date_from\",\"date_to\"],index_col = 0)\n",
    "df.head()"
   ]
  },
  {
   "cell_type": "code",
   "execution_count": null,
   "metadata": {},
   "outputs": [],
   "source": [
    "df.shape"
   ]
  },
  {
   "cell_type": "markdown",
   "metadata": {},
   "source": [
    "## 4. Export the dataframe as CSV file\n",
    "\n",
    "Use semicolons as field delimiters."
   ]
  },
  {
   "cell_type": "code",
   "execution_count": null,
   "metadata": {},
   "outputs": [],
   "source": [
    "# extract basename (Filename) without extension\n",
    "import os\n",
    "fname = os.path.splitext(filename)[0]\n",
    "csvname = fname + \".csv\"\n",
    "print(csvname)\n",
    "\n",
    "df.to_csv(localpath+\"/\"+csvname, sep =\";\")"
   ]
  },
  {
   "cell_type": "markdown",
   "metadata": {},
   "source": [
    "## 5. Import the CSV as point vector layer into QGIS."
   ]
  },
  {
   "cell_type": "code",
   "execution_count": null,
   "metadata": {},
   "outputs": [],
   "source": []
  },
  {
   "cell_type": "code",
   "execution_count": null,
   "metadata": {},
   "outputs": [],
   "source": []
  },
  {
   "cell_type": "markdown",
   "metadata": {},
   "source": [
    "## 6. Download the zip-Archive with the Digital Administrative Boundaries\n",
    "\n",
    "\n",
    "\n",
    "https://www.opengeodata.nrw.de/produkte/geobasis/tsk/dvg/dvg1/\n",
    "\n",
    "dvg1_EPSG25832_Shape.zip\n",
    "\n",
    "DVG: Digitale Verwaltungsgrenzen, DVG1 has more details than DVG2.\n",
    "\n",
    "How to use the data: https://www.opengeodata.nrw.de/produkte/geobasis/tsk/dvg/dvg1/Nutzerinformationen.pdf\n",
    "\n",
    "Download the pdf and use Google Translate (GT) to translate the pdf (upload to GT).\n",
    "\n",
    "https://www.bezreg-koeln.nrw.de/brk_internet/geobasis/topographie_sonderkarten/verwaltungsgrenzen/index.html"
   ]
  },
  {
   "cell_type": "code",
   "execution_count": null,
   "metadata": {},
   "outputs": [],
   "source": []
  },
  {
   "cell_type": "markdown",
   "metadata": {},
   "source": [
    "## Homework: Create a Map in QGIS\n",
    "\n",
    "Follow the tutorial http://www.qgistutorials.com/en/docs/3/making_a_map.html\n",
    "\n",
    "In class we created a vector data layer (point shape file) with the coordinates of the DWD CDC climate stations from a CSV file we generated from the meta data file downloaded from the open data DWD FTP archive (yearly values, temperature).\n",
    "\n",
    "Create a map of the DWD climate stations located in NRW. Use a shapefile of the NRW administrative boundaries.\n",
    "\n",
    "Use the EPSG:28532 coordinate reference system (projection). We will learn later what it is.\n"
   ]
  },
  {
   "cell_type": "code",
   "execution_count": null,
   "metadata": {},
   "outputs": [],
   "source": []
  }
 ],
 "metadata": {
  "kernelspec": {
   "display_name": "Python 3",
   "language": "python",
   "name": "python3"
  },
  "language_info": {
   "codemirror_mode": {
    "name": "ipython",
    "version": 3
   },
   "file_extension": ".py",
   "mimetype": "text/x-python",
   "name": "python",
   "nbconvert_exporter": "python",
   "pygments_lexer": "ipython3",
   "version": "3.8.6"
  }
 },
 "nbformat": 4,
 "nbformat_minor": 4
}
