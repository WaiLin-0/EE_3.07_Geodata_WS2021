{
 "cells": [
  {
   "cell_type": "code",
   "execution_count": 49,
   "id": "7930f7d7-92aa-48ae-a2c7-d8349225e898",
   "metadata": {},
   "outputs": [],
   "source": [
    "import requests"
   ]
  },
  {
   "cell_type": "code",
   "execution_count": 50,
   "id": "25e5f458-0549-4a48-b1cd-70ec52275863",
   "metadata": {},
   "outputs": [],
   "source": [
    "dtm_url = \"https://www.opengeodata.nrw.de/produkte/geobasis/hm/dgm1_xyz/dgm1_xyz/\""
   ]
  },
  {
   "cell_type": "code",
   "execution_count": 51,
   "id": "caaaf0e4-9eb2-496e-8e40-4dece995b6a2",
   "metadata": {},
   "outputs": [],
   "source": [
    "r = requests.get(dtm_url)"
   ]
  },
  {
   "cell_type": "code",
   "execution_count": 52,
   "id": "6687199b-7c42-4494-8a7d-bd8b46b313a8",
   "metadata": {},
   "outputs": [
    {
     "data": {
      "text/plain": [
       "b'<?xml version=\"1.0\" encoding=\"UTF-8\" standalone=\"yes\" ?>\\n<opengeodata>\\n\\t<metafiles>\\n\\t\\t<metafile name=\"dgm1_meta.zip\" size=\"111037\" timestamp=\"2021-10-05T22:20:04.486715\" />\\n\\t</metafiles>\\n\\n\\t<datasets>\\n\\t\\t<dataset name=\"dgm1_kacheln\" title=\"Digitales Gel\\xc3\\xa4ndemodell - Gitterweite 1 m (XYZ) - Paketierung: Einzelkacheln\"><files>\\n\\t\\t\\t\\t<file name=\"dgm1_32_280_5652_1_nw.xyz.gz\" size=\"3232513\" timestamp=\"2020-06-18T11:23:24\" />\\n\\t\\t\\t\\t<file name=\"dgm1_32_280_5653_1_nw.xyz.gz\" size=\"3218343\" timestamp=\"2020-06-18T11:43:07\" />\\n\\t\\t\\t\\t<file name=\"dgm1_32_280_5654_1_nw.xyz.gz\" size=\"2955431\" timestamp=\"2020-06-18T11:50:47\" />\\n\\t\\t\\t\\t<file name=\"dgm1_32_280_5655_1_nw.xyz.gz\" size=\"2867917\" timestamp=\"2020-06-18T11:51:17\" />\\n\\t\\t\\t\\t<file name=\"dgm1_32_280_5656_1_nw.xyz.gz\" size=\"2803718\" timestamp=\"2020-06-18T11:51:36\" />\\n\\t\\t\\t\\t<file name=\"dgm1_32_280_5657_1_nw.xyz.gz\" size=\"2825547\" timestamp=\"2020-12-02T11:05:23\" />\\n\\t\\t\\t\\t<file name=\"dgm1_32_280_5658_1_nw.xyz.gz\" size=\"2786150\" timestamp=\"2020-06-18T11:52:14\" />\\n\\t\\t\\t\\t<file name=\"dgm1_32_280_5659_1_nw.xyz.gz\" size=\"2731391\" timestamp=\"2020-06-18T11:52:33\" />\\n\\t\\t\\t\\t<file name=\"dgm1_32_280_5660_1_nw.xyz.gz\" size=\"2792041\" timestamp=\"2020-06-18T11:52:52\" />\\n\\t\\t\\t\\t<file name=\"dgm1_32_280_5661_1_nw.xyz.gz\" size=\"2860930\" timestamp=\"2020-06-18T11:53:11\" />\\n\\t\\t\\t\\t<file name=\"dgm1_32_281_5652_1_nw.xyz.gz\" size=\"3102795\" timestamp=\"2020-06-18T11:53:29\" />\\n\\t\\t\\t\\t<file name=\"dgm1_32_281_5653_1_nw.xyz.gz\" size=\"3126392\" timestamp=\"2020-06-18T11:53:48\" />\\n\\t\\t\\t\\t<file name=\"dgm1_32_281_5654_1_nw.xyz.gz\" size=\"2910007\" timestamp=\"2020-06-18T11:54:06\" />\\n\\t\\t\\t\\t<file name=\"dgm1_32_281_5655_1_nw.xyz.gz\" size=\"2913974\" timestamp=\"2020-06-18T11:54:26\" />\\n\\t\\t\\t\\t<file name=\"dgm1_32_281_5656_1_nw.xyz.gz\" size=\"2914091\" timestamp=\"2020-06-18T11:54:44\" />\\n\\t\\t\\t\\t<file name=\"dgm1_32_281_5657_1_nw.xyz.gz\" size=\"2753234\" timestamp=\"2020-06-18T11:55:03\" />\\n\\t\\t\\t\\t<file name=\"dgm1_32_281_5658_1_nw.xyz.gz\" size=\"2771726\" timestamp=\"2020-06-18T11:55:22\" />\\n\\t\\t\\t\\t<file name=\"dgm1_32_281_5659_1_nw.xyz.g'"
      ]
     },
     "execution_count": 52,
     "metadata": {},
     "output_type": "execute_result"
    }
   ],
   "source": [
    "r.content[:2000]"
   ]
  },
  {
   "cell_type": "code",
   "execution_count": 53,
   "id": "f950781b-df75-4e6f-b6cb-b5d6e45541fc",
   "metadata": {},
   "outputs": [
    {
     "name": "stdout",
     "output_type": "stream",
     "text": [
      "Collecting package metadata (current_repodata.json): ...working... done\n",
      "Solving environment: ...working... done\n",
      "\n",
      "# All requested packages already installed.\n",
      "\n",
      "\n",
      "Note: you may need to restart the kernel to use updated packages.\n"
     ]
    }
   ],
   "source": [
    "conda install -c conda-forge bs4"
   ]
  },
  {
   "cell_type": "code",
   "execution_count": 54,
   "id": "b24257c7-014d-4ebc-94d3-25a1f00d75df",
   "metadata": {},
   "outputs": [],
   "source": [
    "from bs4 import BeautifulSoup "
   ]
  },
  {
   "cell_type": "code",
   "execution_count": 55,
   "id": "aa241fa6-a047-4056-b53e-5d6a294d872b",
   "metadata": {},
   "outputs": [],
   "source": [
    "soup = BeautifulSoup(r.content, 'html.parser')"
   ]
  },
  {
   "cell_type": "code",
   "execution_count": 56,
   "id": "5d8615c2-93dd-4001-b60c-3d48168677c4",
   "metadata": {},
   "outputs": [],
   "source": [
    "tag_list = soup.find_all('file')"
   ]
  },
  {
   "cell_type": "code",
   "execution_count": 57,
   "id": "e29b4f1a-2323-4bb7-baf5-dba4c8d2d579",
   "metadata": {},
   "outputs": [
    {
     "data": {
      "text/plain": [
       "35860"
      ]
     },
     "execution_count": 57,
     "metadata": {},
     "output_type": "execute_result"
    }
   ],
   "source": [
    "len(tag_list)"
   ]
  },
  {
   "cell_type": "code",
   "execution_count": 58,
   "id": "ac6ab3d7-1e98-4196-8ed6-cbaf52efd828",
   "metadata": {},
   "outputs": [
    {
     "name": "stdout",
     "output_type": "stream",
     "text": [
      "<class 'bs4.element.Tag'>\n",
      "<file name=\"dgm1_32_280_5655_1_nw.xyz.gz\" size=\"2867917\" timestamp=\"2020-06-18T11:51:17\"></file>\n"
     ]
    }
   ],
   "source": [
    "tag = tag_list[3]\n",
    "print(type(tag))\n",
    "print(tag)"
   ]
  },
  {
   "cell_type": "code",
   "execution_count": 59,
   "id": "01d5ecd8-8c48-48f7-a547-4485603961ed",
   "metadata": {},
   "outputs": [
    {
     "data": {
      "text/plain": [
       "'dgm1_32_280_5655_1_nw.xyz.gz'"
      ]
     },
     "execution_count": 59,
     "metadata": {},
     "output_type": "execute_result"
    }
   ],
   "source": [
    "tag[\"name\"]"
   ]
  },
  {
   "cell_type": "code",
   "execution_count": 60,
   "id": "ae48d9f6-eeab-4120-b78a-49a868b22b7d",
   "metadata": {},
   "outputs": [],
   "source": [
    "fname_list = []\n",
    "\n",
    "for tag in tag_list:\n",
    "    fname_list.append(tag[\"name\"])\n"
   ]
  },
  {
   "cell_type": "code",
   "execution_count": 61,
   "id": "799f3877-b66b-4f2b-b4be-bfd9b05fcf7b",
   "metadata": {},
   "outputs": [],
   "source": [
    "fname_list = [tag[\"name\"] for tag in tag_list]"
   ]
  },
  {
   "cell_type": "code",
   "execution_count": 62,
   "id": "48e0c654-0d45-4647-afbd-530475e2f805",
   "metadata": {},
   "outputs": [
    {
     "data": {
      "text/plain": [
       "['dgm1_32_280_5652_1_nw.xyz.gz',\n",
       " 'dgm1_32_280_5653_1_nw.xyz.gz',\n",
       " 'dgm1_32_280_5654_1_nw.xyz.gz',\n",
       " 'dgm1_32_280_5655_1_nw.xyz.gz',\n",
       " 'dgm1_32_280_5656_1_nw.xyz.gz',\n",
       " 'dgm1_32_280_5657_1_nw.xyz.gz',\n",
       " 'dgm1_32_280_5658_1_nw.xyz.gz',\n",
       " 'dgm1_32_280_5659_1_nw.xyz.gz',\n",
       " 'dgm1_32_280_5660_1_nw.xyz.gz',\n",
       " 'dgm1_32_280_5661_1_nw.xyz.gz']"
      ]
     },
     "execution_count": 62,
     "metadata": {},
     "output_type": "execute_result"
    }
   ],
   "source": [
    "fname_list[:10]"
   ]
  },
  {
   "cell_type": "code",
   "execution_count": 63,
   "id": "59d657a0-ec10-4abc-bb23-50305b51529d",
   "metadata": {},
   "outputs": [
    {
     "data": {
      "text/plain": [
       "'280'"
      ]
     },
     "execution_count": 63,
     "metadata": {},
     "output_type": "execute_result"
    }
   ],
   "source": [
    "fname_list[3].split(\"_\")[2]"
   ]
  },
  {
   "cell_type": "code",
   "execution_count": 64,
   "id": "90e044b3-85c5-44ec-b6b7-459806059f0b",
   "metadata": {},
   "outputs": [
    {
     "name": "stdout",
     "output_type": "stream",
     "text": [
      "xs:280000 , ys:5655000\n"
     ]
    }
   ],
   "source": [
    "xs,ys = fname_list[3].split(\"_\")[2:4]\n",
    "print(f\"xs:{xs+'000':s} , ys:{ys +'000':s}\")"
   ]
  },
  {
   "cell_type": "code",
   "execution_count": 65,
   "id": "0f7d5a7c-fd62-4d14-b23c-ef451f4663ba",
   "metadata": {},
   "outputs": [],
   "source": [
    "Dx = Dy = 1000"
   ]
  },
  {
   "cell_type": "code",
   "execution_count": 66,
   "id": "7214bd56-17b7-42f5-b01e-833386edd5c1",
   "metadata": {},
   "outputs": [],
   "source": [
    "x_L = int(fname_list[3].split(\"_\")[2])*1000\n",
    "y_L = int(fname_list[3].split(\"_\")[3])*1000\n",
    "x_R = x_L + Dx\n",
    "y_U = y_L + Dy"
   ]
  },
  {
   "cell_type": "code",
   "execution_count": 67,
   "id": "62831a31-eec6-4026-9cec-45d07105ba7a",
   "metadata": {},
   "outputs": [],
   "source": [
    "P_LL = (x_L,y_L)\n",
    "P_UL = (x_L,y_U)\n",
    "P_UR = (x_R,y_U)\n",
    "P_LR = (x_R,y_L)"
   ]
  },
  {
   "cell_type": "code",
   "execution_count": 68,
   "id": "21993fea-4d58-4cc7-844f-774b3d539697",
   "metadata": {},
   "outputs": [],
   "source": [
    "def points_from_fname(fname,Dx=1000,Dy=1000):\n",
    "    x_L = int(fname_list[3].split(\"_\")[2])*1000\n",
    "    y_L = int(fname_list[3].split(\"_\")[3])*1000\n",
    "    x_R = x_L + Dx\n",
    "    y_U = y_L + Dy\n",
    "    \n",
    "    P_LL = (x_L,y_L)\n",
    "    P_UL = (x_L,y_U)\n",
    "    P_UR = (x_R,y_U)\n",
    "    P_LR = (x_R,y_L)\n",
    "    \n",
    "    return[P_LL,P_UL,P_UR,P_LR]"
   ]
  },
  {
   "cell_type": "code",
   "execution_count": 69,
   "id": "c23b53dc-0819-4d36-bf4b-d085e1bc48f4",
   "metadata": {},
   "outputs": [
    {
     "data": {
      "text/plain": [
       "[(280000, 5655000), (280000, 5656000), (281000, 5656000), (281000, 5655000)]"
      ]
     },
     "execution_count": 69,
     "metadata": {},
     "output_type": "execute_result"
    }
   ],
   "source": [
    "points_from_fname(fname_list[1])"
   ]
  },
  {
   "cell_type": "code",
   "execution_count": 70,
   "id": "8a6c8f4c-fe1e-473c-b617-00d052f8ef27",
   "metadata": {},
   "outputs": [],
   "source": [
    "#for fname in fname_list:\n",
    " #   print(points_from_fname(fname))"
   ]
  },
  {
   "cell_type": "code",
   "execution_count": null,
   "id": "a685d0c3-0e91-4535-be4e-e0b92ae1e224",
   "metadata": {},
   "outputs": [],
   "source": [
    "\n"
   ]
  },
  {
   "cell_type": "code",
   "execution_count": 71,
   "id": "bb881cde-773e-42ae-bcc2-a8ae368d43ef",
   "metadata": {},
   "outputs": [],
   "source": [
    "from shapely.geometry import Polygon \n",
    "geometry = Polygon( points_from_fname(fname_list))\n"
   ]
  },
  {
   "cell_type": "code",
   "execution_count": 72,
   "id": "677fb807-5fd5-40aa-a0d7-8fd2936a740a",
   "metadata": {},
   "outputs": [],
   "source": [
    "import geopandas \n",
    "import geopandas as gpd"
   ]
  },
  {
   "cell_type": "code",
   "execution_count": null,
   "id": "9050cee5-0030-4804-9002-eac563990d31",
   "metadata": {},
   "outputs": [],
   "source": []
  },
  {
   "cell_type": "code",
   "execution_count": 73,
   "id": "04c4115f-8b94-49c7-bbbb-63ef81f5681f",
   "metadata": {},
   "outputs": [],
   "source": [
    "geom_list = [Polygon(points_from_fname(fname)) for fname in fname_list]"
   ]
  },
  {
   "cell_type": "code",
   "execution_count": 74,
   "id": "cd059fa4-decd-4cc8-abcb-e8dca1e68071",
   "metadata": {},
   "outputs": [],
   "source": [
    "dic = {'Name' : fname_list, 'geometry' : geom_list} "
   ]
  },
  {
   "cell_type": "code",
   "execution_count": 75,
   "id": "d7557595-5041-4799-a42a-adf03b967cb8",
   "metadata": {},
   "outputs": [],
   "source": [
    "gdf = gpd.GeoDataFrame(data = dic, crs = \"EPSG:25832\")\n"
   ]
  },
  {
   "cell_type": "code",
   "execution_count": 76,
   "id": "fc6eca5c-e87d-44d7-b33b-208b7207e037",
   "metadata": {},
   "outputs": [
    {
     "data": {
      "text/html": [
       "<div>\n",
       "<style scoped>\n",
       "    .dataframe tbody tr th:only-of-type {\n",
       "        vertical-align: middle;\n",
       "    }\n",
       "\n",
       "    .dataframe tbody tr th {\n",
       "        vertical-align: top;\n",
       "    }\n",
       "\n",
       "    .dataframe thead th {\n",
       "        text-align: right;\n",
       "    }\n",
       "</style>\n",
       "<table border=\"1\" class=\"dataframe\">\n",
       "  <thead>\n",
       "    <tr style=\"text-align: right;\">\n",
       "      <th></th>\n",
       "      <th>Name</th>\n",
       "      <th>geometry</th>\n",
       "    </tr>\n",
       "  </thead>\n",
       "  <tbody>\n",
       "    <tr>\n",
       "      <th>0</th>\n",
       "      <td>dgm1_32_280_5652_1_nw.xyz.gz</td>\n",
       "      <td>POLYGON ((280000.000 5655000.000, 280000.000 5...</td>\n",
       "    </tr>\n",
       "    <tr>\n",
       "      <th>1</th>\n",
       "      <td>dgm1_32_280_5653_1_nw.xyz.gz</td>\n",
       "      <td>POLYGON ((280000.000 5655000.000, 280000.000 5...</td>\n",
       "    </tr>\n",
       "    <tr>\n",
       "      <th>2</th>\n",
       "      <td>dgm1_32_280_5654_1_nw.xyz.gz</td>\n",
       "      <td>POLYGON ((280000.000 5655000.000, 280000.000 5...</td>\n",
       "    </tr>\n",
       "    <tr>\n",
       "      <th>3</th>\n",
       "      <td>dgm1_32_280_5655_1_nw.xyz.gz</td>\n",
       "      <td>POLYGON ((280000.000 5655000.000, 280000.000 5...</td>\n",
       "    </tr>\n",
       "    <tr>\n",
       "      <th>4</th>\n",
       "      <td>dgm1_32_280_5656_1_nw.xyz.gz</td>\n",
       "      <td>POLYGON ((280000.000 5655000.000, 280000.000 5...</td>\n",
       "    </tr>\n",
       "  </tbody>\n",
       "</table>\n",
       "</div>"
      ],
      "text/plain": [
       "                           Name  \\\n",
       "0  dgm1_32_280_5652_1_nw.xyz.gz   \n",
       "1  dgm1_32_280_5653_1_nw.xyz.gz   \n",
       "2  dgm1_32_280_5654_1_nw.xyz.gz   \n",
       "3  dgm1_32_280_5655_1_nw.xyz.gz   \n",
       "4  dgm1_32_280_5656_1_nw.xyz.gz   \n",
       "\n",
       "                                            geometry  \n",
       "0  POLYGON ((280000.000 5655000.000, 280000.000 5...  \n",
       "1  POLYGON ((280000.000 5655000.000, 280000.000 5...  \n",
       "2  POLYGON ((280000.000 5655000.000, 280000.000 5...  \n",
       "3  POLYGON ((280000.000 5655000.000, 280000.000 5...  \n",
       "4  POLYGON ((280000.000 5655000.000, 280000.000 5...  "
      ]
     },
     "execution_count": 76,
     "metadata": {},
     "output_type": "execute_result"
    }
   ],
   "source": [
    "gdf.head()"
   ]
  },
  {
   "cell_type": "code",
   "execution_count": 77,
   "id": "f55bd987-2846-43c7-8f38-558441784f12",
   "metadata": {},
   "outputs": [
    {
     "name": "stdout",
     "output_type": "stream",
     "text": [
      "Write gdf to file ../data/derived/NRW_DTM_Tiles_BB.gpkg\n"
     ]
    }
   ],
   "source": [
    "data_dir = r\"../data/derived/\"\n",
    "out_fname = r\"NRW_DTM_Tiles_BB.gpkg\"\n",
    "print(f\"Write gdf to file {data_dir + out_fname:s}\")\n",
    "gdf.to_file(data_dir + out_fname, driver = \"GPKG\") "
   ]
  },
  {
   "cell_type": "code",
   "execution_count": 78,
   "id": "d2af8e35-6241-4c5c-ae23-04e0753ed429",
   "metadata": {},
   "outputs": [
    {
     "name": "stdout",
     "output_type": "stream",
     "text": [
      "gdf.shape: (35860, 2)\n"
     ]
    },
    {
     "data": {
      "text/html": [
       "<div>\n",
       "<style scoped>\n",
       "    .dataframe tbody tr th:only-of-type {\n",
       "        vertical-align: middle;\n",
       "    }\n",
       "\n",
       "    .dataframe tbody tr th {\n",
       "        vertical-align: top;\n",
       "    }\n",
       "\n",
       "    .dataframe thead th {\n",
       "        text-align: right;\n",
       "    }\n",
       "</style>\n",
       "<table border=\"1\" class=\"dataframe\">\n",
       "  <thead>\n",
       "    <tr style=\"text-align: right;\">\n",
       "      <th></th>\n",
       "      <th>Name</th>\n",
       "      <th>geometry</th>\n",
       "    </tr>\n",
       "  </thead>\n",
       "  <tbody>\n",
       "    <tr>\n",
       "      <th>0</th>\n",
       "      <td>dgm1_32_280_5652_1_nw.xyz.gz</td>\n",
       "      <td>POLYGON ((280000.000 5655000.000, 280000.000 5...</td>\n",
       "    </tr>\n",
       "    <tr>\n",
       "      <th>1</th>\n",
       "      <td>dgm1_32_280_5653_1_nw.xyz.gz</td>\n",
       "      <td>POLYGON ((280000.000 5655000.000, 280000.000 5...</td>\n",
       "    </tr>\n",
       "    <tr>\n",
       "      <th>2</th>\n",
       "      <td>dgm1_32_280_5654_1_nw.xyz.gz</td>\n",
       "      <td>POLYGON ((280000.000 5655000.000, 280000.000 5...</td>\n",
       "    </tr>\n",
       "    <tr>\n",
       "      <th>3</th>\n",
       "      <td>dgm1_32_280_5655_1_nw.xyz.gz</td>\n",
       "      <td>POLYGON ((280000.000 5655000.000, 280000.000 5...</td>\n",
       "    </tr>\n",
       "    <tr>\n",
       "      <th>4</th>\n",
       "      <td>dgm1_32_280_5656_1_nw.xyz.gz</td>\n",
       "      <td>POLYGON ((280000.000 5655000.000, 280000.000 5...</td>\n",
       "    </tr>\n",
       "  </tbody>\n",
       "</table>\n",
       "</div>"
      ],
      "text/plain": [
       "                           Name  \\\n",
       "0  dgm1_32_280_5652_1_nw.xyz.gz   \n",
       "1  dgm1_32_280_5653_1_nw.xyz.gz   \n",
       "2  dgm1_32_280_5654_1_nw.xyz.gz   \n",
       "3  dgm1_32_280_5655_1_nw.xyz.gz   \n",
       "4  dgm1_32_280_5656_1_nw.xyz.gz   \n",
       "\n",
       "                                            geometry  \n",
       "0  POLYGON ((280000.000 5655000.000, 280000.000 5...  \n",
       "1  POLYGON ((280000.000 5655000.000, 280000.000 5...  \n",
       "2  POLYGON ((280000.000 5655000.000, 280000.000 5...  \n",
       "3  POLYGON ((280000.000 5655000.000, 280000.000 5...  \n",
       "4  POLYGON ((280000.000 5655000.000, 280000.000 5...  "
      ]
     },
     "execution_count": 78,
     "metadata": {},
     "output_type": "execute_result"
    }
   ],
   "source": [
    "print(f\"gdf.shape: {gdf.shape}\")\n",
    "gdf.head()"
   ]
  },
  {
   "cell_type": "code",
   "execution_count": null,
   "id": "9de7e1b4-3fa5-4b4f-a131-f86717794257",
   "metadata": {},
   "outputs": [],
   "source": []
  },
  {
   "cell_type": "code",
   "execution_count": null,
   "id": "adfd3d00-8491-4540-bd0b-09a9a6368e50",
   "metadata": {},
   "outputs": [],
   "source": []
  }
 ],
 "metadata": {
  "kernelspec": {
   "display_name": "Python 3 (ipykernel)",
   "language": "python",
   "name": "python3"
  },
  "language_info": {
   "codemirror_mode": {
    "name": "ipython",
    "version": 3
   },
   "file_extension": ".py",
   "mimetype": "text/x-python",
   "name": "python",
   "nbconvert_exporter": "python",
   "pygments_lexer": "ipython3",
   "version": "3.8.12"
  }
 },
 "nbformat": 4,
 "nbformat_minor": 5
}
