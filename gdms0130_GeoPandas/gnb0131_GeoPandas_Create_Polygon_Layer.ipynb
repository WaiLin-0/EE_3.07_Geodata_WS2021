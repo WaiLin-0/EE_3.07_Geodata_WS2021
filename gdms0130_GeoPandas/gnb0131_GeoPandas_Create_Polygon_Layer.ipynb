{
 "cells": [
  {
   "cell_type": "markdown",
   "id": "367f8479-141f-49e6-8e7d-dc3bf65c3027",
   "metadata": {
    "tags": []
   },
   "source": [
    "# GeoPandas: Create Polygon Layer\n",
    "\n",
    "https://geopandas.org/docs.html\n",
    "\n",
    "https://shapely.readthedocs.io/en/stable/manual.html"
   ]
  },
  {
   "cell_type": "markdown",
   "id": "8a0ccd5c-ee2f-414f-9d8d-34c225e672ca",
   "metadata": {
    "tags": []
   },
   "source": [
    "## Task 1: Determine bounding box (BB) of Xanten.\n",
    "\n",
    "Open QGIS and open the layer `dvg1gem_nw.shp`. Use `EPSG:25832`. Determine the bounding box of the municipality Xanten. Google how to do it.\n",
    "\n",
    "What are the coordinates of the lower left (LL) and upper right (UR) corner, respectively?\n",
    "\n"
   ]
  },
  {
   "cell_type": "code",
   "execution_count": 7,
   "id": "8475ccb8-2d71-402a-83d8-e2bd58f699a7",
   "metadata": {},
   "outputs": [
    {
     "data": {
      "text/html": [
       "<div>\n",
       "<style scoped>\n",
       "    .dataframe tbody tr th:only-of-type {\n",
       "        vertical-align: middle;\n",
       "    }\n",
       "\n",
       "    .dataframe tbody tr th {\n",
       "        vertical-align: top;\n",
       "    }\n",
       "\n",
       "    .dataframe thead th {\n",
       "        text-align: right;\n",
       "    }\n",
       "</style>\n",
       "<table border=\"1\" class=\"dataframe\">\n",
       "  <thead>\n",
       "    <tr style=\"text-align: right;\">\n",
       "      <th></th>\n",
       "      <th>MINX</th>\n",
       "      <th>MINY</th>\n",
       "      <th>MAXX</th>\n",
       "      <th>MAXY</th>\n",
       "      <th>CNTX</th>\n",
       "      <th>CNTY</th>\n",
       "      <th>AREA</th>\n",
       "      <th>PERIM</th>\n",
       "      <th>HEIGHT</th>\n",
       "      <th>WIDTH</th>\n",
       "    </tr>\n",
       "  </thead>\n",
       "  <tbody>\n",
       "    <tr>\n",
       "      <th>0</th>\n",
       "      <td>317215.3125</td>\n",
       "      <td>5721035</td>\n",
       "      <td>328192.125</td>\n",
       "      <td>5737003</td>\n",
       "      <td>322703.71875</td>\n",
       "      <td>5729019</td>\n",
       "      <td>175277742</td>\n",
       "      <td>53889.625</td>\n",
       "      <td>15968</td>\n",
       "      <td>10976.8125</td>\n",
       "    </tr>\n",
       "  </tbody>\n",
       "</table>\n",
       "</div>"
      ],
      "text/plain": [
       "          MINX     MINY        MAXX     MAXY          CNTX     CNTY  \\\n",
       "0  317215.3125  5721035  328192.125  5737003  322703.71875  5729019   \n",
       "\n",
       "        AREA      PERIM  HEIGHT       WIDTH  \n",
       "0  175277742  53889.625   15968  10976.8125  "
      ]
     },
     "execution_count": 7,
     "metadata": {},
     "output_type": "execute_result"
    }
   ],
   "source": [
    "import pandas as pd \n",
    "BB_fname = r\"Xanten_BB.csv\"\n",
    "df_BB = pd.read_csv(BB_fname)\n",
    "df_BB.head()"
   ]
  },
  {
   "cell_type": "code",
   "execution_count": null,
   "id": "3212f977-c3d9-495a-a5d8-1685807f25a3",
   "metadata": {},
   "outputs": [],
   "source": []
  },
  {
   "cell_type": "markdown",
   "id": "67690dcf-5a2c-4e9c-8f06-9332b3d11073",
   "metadata": {},
   "source": [
    "## Task 2: Create a rectangle (polygon) encompassing the BB.\n",
    "\n",
    "The package shapely provides geometric object types such as Point, LineString, and Polygon. Look at the original shapely manual.\n",
    "\n",
    "Create a Polygon which is the minumum polygon enccompassing the BB with corner coordinates being multiples of 1000."
   ]
  },
  {
   "cell_type": "code",
   "execution_count": 24,
   "id": "e48ffcd2-7460-4f40-b499-7721f1850e69",
   "metadata": {},
   "outputs": [],
   "source": [
    "import geopandas as gpd\n",
    "import fiona"
   ]
  },
  {
   "cell_type": "code",
   "execution_count": 9,
   "id": "42f5d4d4-195d-4d61-be97-8780a659273a",
   "metadata": {},
   "outputs": [],
   "source": [
    "from shapely.geometry import Polygon"
   ]
  },
  {
   "cell_type": "code",
   "execution_count": 10,
   "id": "7091dcf6-8353-4c98-a472-4ad9645f2635",
   "metadata": {},
   "outputs": [
    {
     "data": {
      "text/plain": [
       "204000000.0"
      ]
     },
     "execution_count": 10,
     "metadata": {},
     "output_type": "execute_result"
    }
   ],
   "source": [
    "polygon=Polygon([(317000,5721000),(329000,5721000),(329000,5738000),(317000,5738000)])\n",
    "polygon.area\n"
   ]
  },
  {
   "cell_type": "code",
   "execution_count": 11,
   "id": "2abf3f98-7f22-4482-b959-d8ef9ded323e",
   "metadata": {},
   "outputs": [],
   "source": [
    "#Create a panda data frame - geodata with coordinates as strings "
   ]
  },
  {
   "cell_type": "markdown",
   "id": "0cdb5484-0160-4b62-ac7c-7eab35191947",
   "metadata": {
    "tags": []
   },
   "source": [
    "## Task 3: Create a GeoPandas Dataframe (gdf) with the correct CRS.\n",
    "\n",
    "Create a gdf with the polygon as the geometry column and a string column in the format \"E:{easting},N:{northing}\" where you replae the place holders easting and northing with the actual coordinates of the LL corner.  "
   ]
  },
  {
   "cell_type": "code",
   "execution_count": 42,
   "id": "77b5bee4-29c9-4ccd-a1da-61ab38a02bd7",
   "metadata": {},
   "outputs": [
    {
     "name": "stderr",
     "output_type": "stream",
     "text": [
      "C:\\Users\\Dell\\AppData\\Local\\Temp/ipykernel_7572/2837799114.py:3: FutureWarning:     You are passing non-geometry data to the GeoSeries constructor. Currently,\n",
      "    it falls back to returning a pandas Series. But in the future, we will start\n",
      "    to raise a TypeError instead.\n",
      "  geo_poly = geopandas.GeoSeries(polygon, crs=\"EPSG:25832\")\n",
      "C:\\Users\\Dell\\AppData\\Local\\Temp/ipykernel_7572/2837799114.py:8: FutureWarning: Assigning CRS to a GeoDataFrame without a geometry column is now deprecated and will not be supported in the future.\n",
      "  gdf = geopandas.GeoDataFrame(poly, crs=\"EPSG:25832\")\n"
     ]
    }
   ],
   "source": [
    "import geopandas \n",
    "from geopandas import GeoSeries\n",
    "geo_poly = geopandas.GeoSeries(polygon, crs=\"EPSG:25832\")\n",
    "geo_poly\n",
    "\n",
    "from shapely.geometry import Polygon\n",
    "poly = {'coordinates': [\"Easting_Northing\"], 'geometry':[polygon]}\n",
    "gdf = geopandas.GeoDataFrame(poly, crs=\"EPSG:25832\")\n",
    "\n"
   ]
  },
  {
   "cell_type": "markdown",
   "id": "dc4b33d3-d4eb-48e1-a8e1-d7a38396741c",
   "metadata": {},
   "source": [
    "## Task 4: Save the layer\n",
    "\n",
    "Save the layer in different file formats, e.g. shape file, GeoJSON, geopackage, etc.\n",
    "\n",
    "Load the layer into QGIS and compare the results. Check the attribute table of your layer."
   ]
  },
  {
   "cell_type": "code",
   "execution_count": 46,
   "id": "a3a1054b-e475-483f-91f9-72e7436c9eab",
   "metadata": {},
   "outputs": [],
   "source": [
    "polygon=Polygon([(317000,5721000),(329000,5721000),(329000,5738000),(317000,5738000)])\n",
    "gdf = gpd.GeoDataFrame(index=[0], crs='epsg:25832', geometry=[polygon])"
   ]
  },
  {
   "cell_type": "code",
   "execution_count": 48,
   "id": "667cf110-00b7-448d-88d1-e6a8cd9d9dbd",
   "metadata": {},
   "outputs": [
    {
     "data": {
      "text/plain": [
       "'{\"type\": \"FeatureCollection\", \"features\": [{\"id\": \"0\", \"type\": \"Feature\", \"properties\": {}, \"geometry\": {\"type\": \"Polygon\", \"coordinates\": [[[317000.0, 5721000.0], [329000.0, 5721000.0], [329000.0, 5738000.0], [317000.0, 5738000.0], [317000.0, 5721000.0]]]}}]}'"
      ]
     },
     "execution_count": 48,
     "metadata": {},
     "output_type": "execute_result"
    }
   ],
   "source": [
    "gdf.to_json()"
   ]
  },
  {
   "cell_type": "code",
   "execution_count": 50,
   "id": "cb8bbdbb-8b18-40fb-b8e5-9f8db1f68432",
   "metadata": {},
   "outputs": [],
   "source": [
    "gdf.to_file('dataframe.gpkg', driver='GPKG', layer='polygon') "
   ]
  },
  {
   "cell_type": "code",
   "execution_count": 26,
   "id": "f06a2acc-712f-48e4-94cd-ff7d95be28e4",
   "metadata": {},
   "outputs": [],
   "source": [
    "import pandas as pd\n",
    "import numpy as np "
   ]
  },
  {
   "cell_type": "code",
   "execution_count": 37,
   "id": "5ab6f4e1-3a97-41ba-b2ca-c2c3d8046632",
   "metadata": {},
   "outputs": [
    {
     "data": {
      "text/plain": [
       "0     E:322000,N:5723000\n",
       "1     E:323000,N:5723000\n",
       "2     E:324000,N:5723000\n",
       "3     E:325000,N:5723000\n",
       "4     E:322000,N:5724000\n",
       "5     E:323000,N:5724000\n",
       "6     E:324000,N:5724000\n",
       "7     E:325000,N:5724000\n",
       "8     E:322000,N:5725000\n",
       "9     E:323000,N:5725000\n",
       "10    E:324000,N:5725000\n",
       "11    E:325000,N:5725000\n",
       "12    E:322000,N:5726000\n",
       "13    E:323000,N:5726000\n",
       "14    E:324000,N:5726000\n",
       "15    E:325000,N:5726000\n",
       "Name: utm_coords, dtype: object"
      ]
     },
     "execution_count": 37,
     "metadata": {},
     "output_type": "execute_result"
    }
   ],
   "source": [
    "\n",
    "filename = \"Hees_Furstenberg_selected.csv\"\n",
    "df = pd.read_csv(filename,encoding =\"cp1252\" )\n",
    "coord = df[\"utm_coords\"]\n",
    "coord "
   ]
  },
  {
   "cell_type": "code",
   "execution_count": null,
   "id": "1a3f4b2d-815c-45e2-8900-7f1a4b546a58",
   "metadata": {},
   "outputs": [],
   "source": []
  },
  {
   "cell_type": "code",
   "execution_count": 22,
   "id": "60775fb8-cc4e-4609-9568-1695ad05a6c3",
   "metadata": {},
   "outputs": [],
   "source": [
    "c = coord[0].split(\",\")[0]"
   ]
  },
  {
   "cell_type": "code",
   "execution_count": 25,
   "id": "3bea0f09-4ece-4382-869d-21dab1c12588",
   "metadata": {},
   "outputs": [
    {
     "data": {
      "text/plain": [
       "'322000'"
      ]
     },
     "execution_count": 25,
     "metadata": {},
     "output_type": "execute_result"
    }
   ],
   "source": [
    "c.split(\":\")[1]"
   ]
  },
  {
   "cell_type": "code",
   "execution_count": 38,
   "id": "d0eaf283-78e2-431d-bd57-6a6f0da46160",
   "metadata": {},
   "outputs": [
    {
     "data": {
      "text/plain": [
       "array([ 0,  1,  2,  3,  4,  5,  6,  7,  8,  9, 10, 11, 12, 13, 14, 15])"
      ]
     },
     "execution_count": 38,
     "metadata": {},
     "output_type": "execute_result"
    }
   ],
   "source": [
    "x = np.arange(0,16)\n",
    "x"
   ]
  },
  {
   "cell_type": "code",
   "execution_count": 62,
   "id": "5642c944-3e4e-49be-9784-dd1d702d3878",
   "metadata": {},
   "outputs": [],
   "source": [
    "def first(x):\n",
    "    c = coord[x].split(\",\")[0]\n",
    "    d = int(c.split(\":\")[1])/1000\n",
    "    return(d)\n",
    "\n",
    "def second(x):\n",
    "    b = coord[x].split(\",\")[1]\n",
    "    e = int(b.split(\":\")[1])/1000\n",
    "    return(e)\n",
    "     \n",
    "        "
   ]
  },
  {
   "cell_type": "code",
   "execution_count": 61,
   "id": "a3255a57-c426-4038-af36-f9cdf1ceea48",
   "metadata": {},
   "outputs": [
    {
     "data": {
      "text/plain": [
       "322000"
      ]
     },
     "execution_count": 61,
     "metadata": {},
     "output_type": "execute_result"
    }
   ],
   "source": []
  },
  {
   "cell_type": "code",
   "execution_count": 76,
   "id": "cafa622a-a06f-4205-b461-5c54a08a8090",
   "metadata": {},
   "outputs": [],
   "source": [
    "fname = f\"dgm1_32_{first(0):3.0f}_{second(0):4.0f}_1_nw.xyz.gz\""
   ]
  },
  {
   "cell_type": "code",
   "execution_count": 77,
   "id": "300998ea-69d7-4863-9824-a780f2bc942a",
   "metadata": {},
   "outputs": [
    {
     "data": {
      "text/plain": [
       "'dgm1_32_322_5723_1_nw.xyz.gz'"
      ]
     },
     "execution_count": 77,
     "metadata": {},
     "output_type": "execute_result"
    }
   ],
   "source": [
    "fname"
   ]
  },
  {
   "cell_type": "code",
   "execution_count": null,
   "id": "29e575e0-c178-415f-a73e-7aadb0736be0",
   "metadata": {},
   "outputs": [],
   "source": []
  }
 ],
 "metadata": {
  "kernelspec": {
   "display_name": "Python 3 (ipykernel)",
   "language": "python",
   "name": "python3"
  },
  "language_info": {
   "codemirror_mode": {
    "name": "ipython",
    "version": 3
   },
   "file_extension": ".py",
   "mimetype": "text/x-python",
   "name": "python",
   "nbconvert_exporter": "python",
   "pygments_lexer": "ipython3",
   "version": "3.8.12"
  }
 },
 "nbformat": 4,
 "nbformat_minor": 5
}
