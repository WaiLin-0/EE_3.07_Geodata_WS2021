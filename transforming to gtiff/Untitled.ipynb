{
 "cells": [
  {
   "cell_type": "markdown",
   "id": "59d2ab63-8e10-4382-95be-4d43536e57fc",
   "metadata": {},
   "source": [
    "# how to convert xyz.gz to geotiff"
   ]
  },
  {
   "cell_type": "code",
   "execution_count": 117,
   "id": "b3661f01-f15f-44ad-94c6-9933b6bfea36",
   "metadata": {},
   "outputs": [],
   "source": [
    "input_dir = r\"xanten/\"\n",
    "data_dir = r\"tiff_files/\""
   ]
  },
  {
   "cell_type": "code",
   "execution_count": 118,
   "id": "22f83884-6e44-4458-b32f-cf12692e844f",
   "metadata": {},
   "outputs": [],
   "source": [
    "import os\n",
    "import pandas as pd\n",
    "os.makedirs(data_dir,exist_ok = True)"
   ]
  },
  {
   "cell_type": "markdown",
   "id": "7032d061-8acc-48eb-beb3-3eafed29a7b6",
   "metadata": {},
   "source": [
    "# os & glob & pathlib"
   ]
  },
  {
   "cell_type": "code",
   "execution_count": 141,
   "id": "cc4d447d-6d2f-4720-8027-ab11f4380abc",
   "metadata": {},
   "outputs": [],
   "source": [
    "#BB_fname = r\"to_gtiff.csv\"\n",
    "#df_BB = pd.read_csv(BB_fname)\n",
    "#df_BB.head()"
   ]
  },
  {
   "cell_type": "code",
   "execution_count": 120,
   "id": "d8c31ac4-35dc-47a4-9ea2-cf7c251bf030",
   "metadata": {},
   "outputs": [
    {
     "data": {
      "text/plain": [
       "'C:\\\\Users\\\\Dell\\\\OneDrive\\\\Desktop\\\\studies\\\\python git\\\\EE_3.07_Geodata_WS2021\\\\transforming to gtiff'"
      ]
     },
     "execution_count": 120,
     "metadata": {},
     "output_type": "execute_result"
    }
   ],
   "source": [
    "os.getcwd()"
   ]
  },
  {
   "cell_type": "code",
   "execution_count": null,
   "id": "25e14900-3a6d-4f69-af3c-ab33b604a948",
   "metadata": {},
   "outputs": [],
   "source": []
  },
  {
   "cell_type": "code",
   "execution_count": 142,
   "id": "2ae00849-b44b-4946-841a-a07154102e4a",
   "metadata": {},
   "outputs": [],
   "source": [
    " # much easier way of getting content\n",
    "#for fname in fname_list:\n",
    "   # pfname = input_dir + fname \n",
    "\n"
   ]
  },
  {
   "cell_type": "code",
   "execution_count": 147,
   "id": "71c7eeaa-c854-489c-9db6-815e01fec1d4",
   "metadata": {},
   "outputs": [],
   "source": [
    "fname_list = os.listdir(input_dir)\n",
    "for fname in fname_list:\n",
    "    vbname = fname.split(\".\")[0]\n",
    "    "
   ]
  },
  {
   "cell_type": "code",
   "execution_count": 148,
   "id": "fb47970f-91d9-46d2-827d-3455f95c8465",
   "metadata": {},
   "outputs": [],
   "source": [
    "# name_list = [ output_dir + fname.split(\".\")[0] + r\".tif\" for fname in df_BB[\"fname\"]]"
   ]
  },
  {
   "cell_type": "code",
   "execution_count": 151,
   "id": "237e3f3a-222d-48b7-adae-0cb2980150ed",
   "metadata": {},
   "outputs": [
    {
     "name": "stdout",
     "output_type": "stream",
     "text": [
      "dgm1_32_328_5723_1_nw\n"
     ]
    }
   ],
   "source": [
    "#another way of splitting \n",
    "#basename = os.path.basename(pfname)\n",
    "#step1 = os.path.splitext(basename)[0]\n",
    "#vvname = os.path.splitext(step1)[0]\n"
   ]
  },
  {
   "cell_type": "code",
   "execution_count": 155,
   "id": "120c6823-cf50-4903-aec9-3e1bf1ecdf69",
   "metadata": {},
   "outputs": [
    {
     "name": "stdout",
     "output_type": "stream",
     "text": [
      "In:  xanten/dgm1_32_317_5730_1_nw.xyz.gz\n",
      "Out:  tiff_files/dgm1_32_317_5730_1_nw.tif\n",
      "In:  xanten/dgm1_32_317_5731_1_nw.xyz.gz\n",
      "Out:  tiff_files/dgm1_32_317_5731_1_nw.tif\n",
      "In:  xanten/dgm1_32_318_5725_1_nw.xyz.gz\n",
      "Out:  tiff_files/dgm1_32_318_5725_1_nw.tif\n",
      "In:  xanten/dgm1_32_318_5726_1_nw.xyz.gz\n",
      "Out:  tiff_files/dgm1_32_318_5726_1_nw.tif\n",
      "In:  xanten/dgm1_32_318_5727_1_nw.xyz.gz\n",
      "Out:  tiff_files/dgm1_32_318_5727_1_nw.tif\n",
      "In:  xanten/dgm1_32_318_5728_1_nw.xyz.gz\n",
      "Out:  tiff_files/dgm1_32_318_5728_1_nw.tif\n",
      "In:  xanten/dgm1_32_318_5729_1_nw.xyz.gz\n",
      "Out:  tiff_files/dgm1_32_318_5729_1_nw.tif\n",
      "In:  xanten/dgm1_32_318_5730_1_nw.xyz.gz\n",
      "Out:  tiff_files/dgm1_32_318_5730_1_nw.tif\n",
      "In:  xanten/dgm1_32_318_5731_1_nw.xyz.gz\n",
      "Out:  tiff_files/dgm1_32_318_5731_1_nw.tif\n",
      "In:  xanten/dgm1_32_318_5732_1_nw.xyz.gz\n",
      "Out:  tiff_files/dgm1_32_318_5732_1_nw.tif\n",
      "In:  xanten/dgm1_32_318_5733_1_nw.xyz.gz\n",
      "Out:  tiff_files/dgm1_32_318_5733_1_nw.tif\n",
      "In:  xanten/dgm1_32_319_5724_1_nw.xyz.gz\n",
      "Out:  tiff_files/dgm1_32_319_5724_1_nw.tif\n",
      "In:  xanten/dgm1_32_319_5725_1_nw.xyz.gz\n",
      "Out:  tiff_files/dgm1_32_319_5725_1_nw.tif\n",
      "In:  xanten/dgm1_32_319_5726_1_nw.xyz.gz\n",
      "Out:  tiff_files/dgm1_32_319_5726_1_nw.tif\n",
      "In:  xanten/dgm1_32_319_5727_1_nw.xyz.gz\n",
      "Out:  tiff_files/dgm1_32_319_5727_1_nw.tif\n",
      "In:  xanten/dgm1_32_319_5728_1_nw.xyz.gz\n",
      "Out:  tiff_files/dgm1_32_319_5728_1_nw.tif\n",
      "In:  xanten/dgm1_32_319_5729_1_nw.xyz.gz\n",
      "Out:  tiff_files/dgm1_32_319_5729_1_nw.tif\n",
      "In:  xanten/dgm1_32_319_5730_1_nw.xyz.gz\n",
      "Out:  tiff_files/dgm1_32_319_5730_1_nw.tif\n",
      "In:  xanten/dgm1_32_319_5731_1_nw.xyz.gz\n",
      "Out:  tiff_files/dgm1_32_319_5731_1_nw.tif\n",
      "In:  xanten/dgm1_32_319_5732_1_nw.xyz.gz\n",
      "Out:  tiff_files/dgm1_32_319_5732_1_nw.tif\n",
      "In:  xanten/dgm1_32_319_5733_1_nw.xyz.gz\n",
      "Out:  tiff_files/dgm1_32_319_5733_1_nw.tif\n",
      "In:  xanten/dgm1_32_319_5734_1_nw.xyz.gz\n",
      "Out:  tiff_files/dgm1_32_319_5734_1_nw.tif\n",
      "In:  xanten/dgm1_32_320_5724_1_nw.xyz.gz\n",
      "Out:  tiff_files/dgm1_32_320_5724_1_nw.tif\n",
      "In:  xanten/dgm1_32_320_5725_1_nw.xyz.gz\n",
      "Out:  tiff_files/dgm1_32_320_5725_1_nw.tif\n",
      "In:  xanten/dgm1_32_320_5726_1_nw.xyz.gz\n",
      "Out:  tiff_files/dgm1_32_320_5726_1_nw.tif\n",
      "In:  xanten/dgm1_32_320_5727_1_nw.xyz.gz\n",
      "Out:  tiff_files/dgm1_32_320_5727_1_nw.tif\n",
      "In:  xanten/dgm1_32_320_5728_1_nw.xyz.gz\n",
      "Out:  tiff_files/dgm1_32_320_5728_1_nw.tif\n",
      "In:  xanten/dgm1_32_320_5729_1_nw.xyz.gz\n",
      "Out:  tiff_files/dgm1_32_320_5729_1_nw.tif\n",
      "In:  xanten/dgm1_32_320_5730_1_nw.xyz.gz\n",
      "Out:  tiff_files/dgm1_32_320_5730_1_nw.tif\n",
      "In:  xanten/dgm1_32_320_5731_1_nw.xyz.gz\n",
      "Out:  tiff_files/dgm1_32_320_5731_1_nw.tif\n",
      "In:  xanten/dgm1_32_320_5732_1_nw.xyz.gz\n",
      "Out:  tiff_files/dgm1_32_320_5732_1_nw.tif\n",
      "In:  xanten/dgm1_32_320_5733_1_nw.xyz.gz\n",
      "Out:  tiff_files/dgm1_32_320_5733_1_nw.tif\n",
      "In:  xanten/dgm1_32_320_5734_1_nw.xyz.gz\n",
      "Out:  tiff_files/dgm1_32_320_5734_1_nw.tif\n",
      "In:  xanten/dgm1_32_320_5735_1_nw.xyz.gz\n",
      "Out:  tiff_files/dgm1_32_320_5735_1_nw.tif\n",
      "In:  xanten/dgm1_32_320_5736_1_nw.xyz.gz\n",
      "Out:  tiff_files/dgm1_32_320_5736_1_nw.tif\n",
      "In:  xanten/dgm1_32_320_5737_1_nw.xyz.gz\n",
      "Out:  tiff_files/dgm1_32_320_5737_1_nw.tif\n",
      "In:  xanten/dgm1_32_321_5723_1_nw.xyz.gz\n",
      "Out:  tiff_files/dgm1_32_321_5723_1_nw.tif\n",
      "In:  xanten/dgm1_32_321_5724_1_nw.xyz.gz\n",
      "Out:  tiff_files/dgm1_32_321_5724_1_nw.tif\n",
      "In:  xanten/dgm1_32_321_5725_1_nw.xyz.gz\n",
      "Out:  tiff_files/dgm1_32_321_5725_1_nw.tif\n",
      "In:  xanten/dgm1_32_321_5726_1_nw.xyz.gz\n",
      "Out:  tiff_files/dgm1_32_321_5726_1_nw.tif\n",
      "In:  xanten/dgm1_32_321_5727_1_nw.xyz.gz\n",
      "Out:  tiff_files/dgm1_32_321_5727_1_nw.tif\n",
      "In:  xanten/dgm1_32_321_5728_1_nw.xyz.gz\n",
      "Out:  tiff_files/dgm1_32_321_5728_1_nw.tif\n",
      "In:  xanten/dgm1_32_321_5729_1_nw.xyz.gz\n",
      "Out:  tiff_files/dgm1_32_321_5729_1_nw.tif\n",
      "In:  xanten/dgm1_32_321_5730_1_nw.xyz.gz\n",
      "Out:  tiff_files/dgm1_32_321_5730_1_nw.tif\n",
      "In:  xanten/dgm1_32_321_5731_1_nw.xyz.gz\n",
      "Out:  tiff_files/dgm1_32_321_5731_1_nw.tif\n",
      "In:  xanten/dgm1_32_321_5732_1_nw.xyz.gz\n",
      "Out:  tiff_files/dgm1_32_321_5732_1_nw.tif\n",
      "In:  xanten/dgm1_32_321_5733_1_nw.xyz.gz\n",
      "Out:  tiff_files/dgm1_32_321_5733_1_nw.tif\n",
      "In:  xanten/dgm1_32_321_5734_1_nw.xyz.gz\n",
      "Out:  tiff_files/dgm1_32_321_5734_1_nw.tif\n",
      "In:  xanten/dgm1_32_321_5735_1_nw.xyz.gz\n",
      "Out:  tiff_files/dgm1_32_321_5735_1_nw.tif\n",
      "In:  xanten/dgm1_32_321_5736_1_nw.xyz.gz\n",
      "Out:  tiff_files/dgm1_32_321_5736_1_nw.tif\n",
      "In:  xanten/dgm1_32_322_5722_1_nw.xyz.gz\n",
      "Out:  tiff_files/dgm1_32_322_5722_1_nw.tif\n",
      "In:  xanten/dgm1_32_322_5723_1_nw.xyz.gz\n",
      "Out:  tiff_files/dgm1_32_322_5723_1_nw.tif\n",
      "In:  xanten/dgm1_32_322_5724_1_nw.xyz.gz\n",
      "Out:  tiff_files/dgm1_32_322_5724_1_nw.tif\n",
      "In:  xanten/dgm1_32_322_5725_1_nw.xyz.gz\n",
      "Out:  tiff_files/dgm1_32_322_5725_1_nw.tif\n",
      "In:  xanten/dgm1_32_322_5726_1_nw.xyz.gz\n",
      "Out:  tiff_files/dgm1_32_322_5726_1_nw.tif\n",
      "In:  xanten/dgm1_32_322_5727_1_nw.xyz.gz\n",
      "Out:  tiff_files/dgm1_32_322_5727_1_nw.tif\n",
      "In:  xanten/dgm1_32_322_5728_1_nw.xyz.gz\n",
      "Out:  tiff_files/dgm1_32_322_5728_1_nw.tif\n",
      "In:  xanten/dgm1_32_322_5729_1_nw.xyz.gz\n",
      "Out:  tiff_files/dgm1_32_322_5729_1_nw.tif\n",
      "In:  xanten/dgm1_32_322_5730_1_nw.xyz.gz\n",
      "Out:  tiff_files/dgm1_32_322_5730_1_nw.tif\n",
      "In:  xanten/dgm1_32_322_5731_1_nw.xyz.gz\n",
      "Out:  tiff_files/dgm1_32_322_5731_1_nw.tif\n",
      "In:  xanten/dgm1_32_322_5732_1_nw.xyz.gz\n",
      "Out:  tiff_files/dgm1_32_322_5732_1_nw.tif\n",
      "In:  xanten/dgm1_32_322_5735_1_nw.xyz.gz\n",
      "Out:  tiff_files/dgm1_32_322_5735_1_nw.tif\n",
      "In:  xanten/dgm1_32_323_5722_1_nw.xyz.gz\n",
      "Out:  tiff_files/dgm1_32_323_5722_1_nw.tif\n",
      "In:  xanten/dgm1_32_323_5723_1_nw.xyz.gz\n",
      "Out:  tiff_files/dgm1_32_323_5723_1_nw.tif\n",
      "In:  xanten/dgm1_32_323_5724_1_nw.xyz.gz\n",
      "Out:  tiff_files/dgm1_32_323_5724_1_nw.tif\n",
      "In:  xanten/dgm1_32_323_5725_1_nw.xyz.gz\n",
      "Out:  tiff_files/dgm1_32_323_5725_1_nw.tif\n",
      "In:  xanten/dgm1_32_323_5726_1_nw.xyz.gz\n",
      "Out:  tiff_files/dgm1_32_323_5726_1_nw.tif\n",
      "In:  xanten/dgm1_32_323_5727_1_nw.xyz.gz\n",
      "Out:  tiff_files/dgm1_32_323_5727_1_nw.tif\n",
      "In:  xanten/dgm1_32_323_5728_1_nw.xyz.gz\n",
      "Out:  tiff_files/dgm1_32_323_5728_1_nw.tif\n",
      "In:  xanten/dgm1_32_323_5729_1_nw.xyz.gz\n",
      "Out:  tiff_files/dgm1_32_323_5729_1_nw.tif\n",
      "In:  xanten/dgm1_32_323_5730_1_nw.xyz.gz\n",
      "Out:  tiff_files/dgm1_32_323_5730_1_nw.tif\n",
      "In:  xanten/dgm1_32_323_5731_1_nw.xyz.gz\n",
      "Out:  tiff_files/dgm1_32_323_5731_1_nw.tif\n",
      "In:  xanten/dgm1_32_324_5722_1_nw.xyz.gz\n",
      "Out:  tiff_files/dgm1_32_324_5722_1_nw.tif\n",
      "In:  xanten/dgm1_32_324_5723_1_nw.xyz.gz\n",
      "Out:  tiff_files/dgm1_32_324_5723_1_nw.tif\n",
      "In:  xanten/dgm1_32_324_5724_1_nw.xyz.gz\n",
      "Out:  tiff_files/dgm1_32_324_5724_1_nw.tif\n",
      "In:  xanten/dgm1_32_324_5725_1_nw.xyz.gz\n",
      "Out:  tiff_files/dgm1_32_324_5725_1_nw.tif\n",
      "In:  xanten/dgm1_32_324_5726_1_nw.xyz.gz\n",
      "Out:  tiff_files/dgm1_32_324_5726_1_nw.tif\n",
      "In:  xanten/dgm1_32_324_5727_1_nw.xyz.gz\n",
      "Out:  tiff_files/dgm1_32_324_5727_1_nw.tif\n",
      "In:  xanten/dgm1_32_324_5728_1_nw.xyz.gz\n",
      "Out:  tiff_files/dgm1_32_324_5728_1_nw.tif\n",
      "In:  xanten/dgm1_32_324_5729_1_nw.xyz.gz\n",
      "Out:  tiff_files/dgm1_32_324_5729_1_nw.tif\n",
      "In:  xanten/dgm1_32_324_5730_1_nw.xyz.gz\n",
      "Out:  tiff_files/dgm1_32_324_5730_1_nw.tif\n",
      "In:  xanten/dgm1_32_324_5731_1_nw.xyz.gz\n",
      "Out:  tiff_files/dgm1_32_324_5731_1_nw.tif\n",
      "In:  xanten/dgm1_32_325_5721_1_nw.xyz.gz\n",
      "Out:  tiff_files/dgm1_32_325_5721_1_nw.tif\n",
      "In:  xanten/dgm1_32_325_5722_1_nw.xyz.gz\n",
      "Out:  tiff_files/dgm1_32_325_5722_1_nw.tif\n",
      "In:  xanten/dgm1_32_325_5723_1_nw.xyz.gz\n",
      "Out:  tiff_files/dgm1_32_325_5723_1_nw.tif\n",
      "In:  xanten/dgm1_32_325_5724_1_nw.xyz.gz\n",
      "Out:  tiff_files/dgm1_32_325_5724_1_nw.tif\n",
      "In:  xanten/dgm1_32_325_5725_1_nw.xyz.gz\n",
      "Out:  tiff_files/dgm1_32_325_5725_1_nw.tif\n",
      "In:  xanten/dgm1_32_325_5726_1_nw.xyz.gz\n",
      "Out:  tiff_files/dgm1_32_325_5726_1_nw.tif\n",
      "In:  xanten/dgm1_32_325_5727_1_nw.xyz.gz\n",
      "Out:  tiff_files/dgm1_32_325_5727_1_nw.tif\n",
      "In:  xanten/dgm1_32_325_5728_1_nw.xyz.gz\n",
      "Out:  tiff_files/dgm1_32_325_5728_1_nw.tif\n",
      "In:  xanten/dgm1_32_325_5729_1_nw.xyz.gz\n",
      "Out:  tiff_files/dgm1_32_325_5729_1_nw.tif\n",
      "In:  xanten/dgm1_32_326_5721_1_nw.xyz.gz\n",
      "Out:  tiff_files/dgm1_32_326_5721_1_nw.tif\n",
      "In:  xanten/dgm1_32_326_5722_1_nw.xyz.gz\n",
      "Out:  tiff_files/dgm1_32_326_5722_1_nw.tif\n",
      "In:  xanten/dgm1_32_326_5723_1_nw.xyz.gz\n"
     ]
    },
    {
     "ename": "ValueError",
     "evalue": "Received a NULL pointer.",
     "output_type": "error",
     "traceback": [
      "\u001b[1;31m---------------------------------------------------------------------------\u001b[0m",
      "\u001b[1;31mValueError\u001b[0m                                Traceback (most recent call last)",
      "\u001b[1;32m<timed exec>\u001b[0m in \u001b[0;36m<module>\u001b[1;34m\u001b[0m\n",
      "\u001b[1;32m~\\anaconda3\\envs\\geo1\\lib\\site-packages\\osgeo\\gdal.py\u001b[0m in \u001b[0;36mTranslate\u001b[1;34m(destName, srcDS, **kwargs)\u001b[0m\n\u001b[0;32m    482\u001b[0m         \u001b[0msrcDS\u001b[0m \u001b[1;33m=\u001b[0m \u001b[0mOpen\u001b[0m\u001b[1;33m(\u001b[0m\u001b[0msrcDS\u001b[0m\u001b[1;33m)\u001b[0m\u001b[1;33m\u001b[0m\u001b[1;33m\u001b[0m\u001b[0m\n\u001b[0;32m    483\u001b[0m \u001b[1;33m\u001b[0m\u001b[0m\n\u001b[1;32m--> 484\u001b[1;33m     \u001b[1;32mreturn\u001b[0m \u001b[0mTranslateInternal\u001b[0m\u001b[1;33m(\u001b[0m\u001b[0mdestName\u001b[0m\u001b[1;33m,\u001b[0m \u001b[0msrcDS\u001b[0m\u001b[1;33m,\u001b[0m \u001b[0mopts\u001b[0m\u001b[1;33m,\u001b[0m \u001b[0mcallback\u001b[0m\u001b[1;33m,\u001b[0m \u001b[0mcallback_data\u001b[0m\u001b[1;33m)\u001b[0m\u001b[1;33m\u001b[0m\u001b[1;33m\u001b[0m\u001b[0m\n\u001b[0m\u001b[0;32m    485\u001b[0m \u001b[1;33m\u001b[0m\u001b[0m\n\u001b[0;32m    486\u001b[0m def WarpOptions(options=None, format=None,\n",
      "\u001b[1;32m~\\anaconda3\\envs\\geo1\\lib\\site-packages\\osgeo\\gdal.py\u001b[0m in \u001b[0;36mTranslateInternal\u001b[1;34m(*args)\u001b[0m\n\u001b[0;32m   4569\u001b[0m \u001b[1;32mdef\u001b[0m \u001b[0mTranslateInternal\u001b[0m\u001b[1;33m(\u001b[0m\u001b[1;33m*\u001b[0m\u001b[0margs\u001b[0m\u001b[1;33m)\u001b[0m\u001b[1;33m:\u001b[0m\u001b[1;33m\u001b[0m\u001b[1;33m\u001b[0m\u001b[0m\n\u001b[0;32m   4570\u001b[0m     \u001b[1;34m\"\"\"TranslateInternal(char const * dest, Dataset dataset, GDALTranslateOptions translateOptions, GDALProgressFunc callback=0, void * callback_data=None) -> Dataset\"\"\"\u001b[0m\u001b[1;33m\u001b[0m\u001b[1;33m\u001b[0m\u001b[0m\n\u001b[1;32m-> 4571\u001b[1;33m     \u001b[1;32mreturn\u001b[0m \u001b[0m_gdal\u001b[0m\u001b[1;33m.\u001b[0m\u001b[0mTranslateInternal\u001b[0m\u001b[1;33m(\u001b[0m\u001b[1;33m*\u001b[0m\u001b[0margs\u001b[0m\u001b[1;33m)\u001b[0m\u001b[1;33m\u001b[0m\u001b[1;33m\u001b[0m\u001b[0m\n\u001b[0m\u001b[0;32m   4572\u001b[0m \u001b[1;32mclass\u001b[0m \u001b[0mGDALWarpAppOptions\u001b[0m\u001b[1;33m(\u001b[0m\u001b[0m_object\u001b[0m\u001b[1;33m)\u001b[0m\u001b[1;33m:\u001b[0m\u001b[1;33m\u001b[0m\u001b[1;33m\u001b[0m\u001b[0m\n\u001b[0;32m   4573\u001b[0m     \u001b[1;34m\"\"\"Proxy of C++ GDALWarpAppOptions class.\"\"\"\u001b[0m\u001b[1;33m\u001b[0m\u001b[1;33m\u001b[0m\u001b[0m\n",
      "\u001b[1;31mValueError\u001b[0m: Received a NULL pointer."
     ]
    }
   ],
   "source": [
    "%%time\n",
    "from osgeo import gdal\n",
    "import os \n",
    "fname_list = os.listdir(input_dir)\n",
    "for fname in fname_list:\n",
    "    vbname = fname.split(\".\")[0]\n",
    "    \n",
    "    outname = data_dir + vbname + r\".tif\" \n",
    "    basename = input_dir + vbname + r\".xyz.gz\"\n",
    "    infile =  basename\n",
    "    outfile = outname\n",
    "    print(\"In: \", infile)\n",
    "    ds = gdal.Open(infile)\n",
    "    ds = gdal.Translate(outfile, ds, outputSRS=\"EPSG:25832\")\n",
    "    ds = None\n",
    "    print(\"Out: \", outfile)"
   ]
  },
  {
   "cell_type": "code",
   "execution_count": 140,
   "id": "ef31aa93-8d56-46c4-9e22-7b2c6560d7c9",
   "metadata": {},
   "outputs": [
    {
     "name": "stdout",
     "output_type": "stream",
     "text": [
      "tiff_files/dgm1_32_328_5723_1_nw.tif\n"
     ]
    }
   ],
   "source": [
    "print()"
   ]
  },
  {
   "cell_type": "code",
   "execution_count": 156,
   "id": "828e9f4a-d0ff-4ec1-bc0f-6282be9f560b",
   "metadata": {},
   "outputs": [],
   "source": [
    "#read about geo refrencing tool "
   ]
  },
  {
   "cell_type": "code",
   "execution_count": null,
   "id": "cf9f97ab-6dc9-447b-8c6f-8356bf6f93a5",
   "metadata": {},
   "outputs": [],
   "source": []
  }
 ],
 "metadata": {
  "kernelspec": {
   "display_name": "Python 3 (ipykernel)",
   "language": "python",
   "name": "python3"
  },
  "language_info": {
   "codemirror_mode": {
    "name": "ipython",
    "version": 3
   },
   "file_extension": ".py",
   "mimetype": "text/x-python",
   "name": "python",
   "nbconvert_exporter": "python",
   "pygments_lexer": "ipython3",
   "version": "3.8.12"
  }
 },
 "nbformat": 4,
 "nbformat_minor": 5
}
